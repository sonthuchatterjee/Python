{
 "cells": [
  {
   "cell_type": "code",
   "execution_count": 8,
   "id": "776df972",
   "metadata": {},
   "outputs": [
    {
     "name": "stdout",
     "output_type": "stream",
     "text": [
      "d:\\Studies\\Python\n",
      "os.stat_result(st_mode=33206, st_ino=9288674231468534, st_dev=337436381, st_nlink=1, st_uid=0, st_gid=0, st_size=55771, st_atime=1627844568, st_mtime=1627583248, st_ctime=1627583028)\n"
     ]
    }
   ],
   "source": [
    "import os\n",
    "import pathlib\n",
    "\n",
    "print(os.getcwd())\n",
    "print(os.stat(os.path.join(os.getcwd(),'yfinance1.csv')))"
   ]
  },
  {
   "cell_type": "code",
   "execution_count": 5,
   "id": "f2c5949a",
   "metadata": {},
   "outputs": [
    {
     "name": "stdout",
     "output_type": "stream",
     "text": [
      "usr\\dfdf\\fgfgfg\n",
      "usr\\dfdf\\fgfgfg\n",
      "usr\\dfdf\\fgfgfg\n"
     ]
    }
   ],
   "source": [
    "import os\n",
    "from pathlib import Path\n",
    "\n",
    "print(os.path.join('usr','dfdf','fgfgfg'))\n",
    "print(Path('usr').joinpath('dfdf').joinpath('fgfgfg'))\n",
    "print(Path('usr') / 'dfdf' / 'fgfgfg')"
   ]
  },
  {
   "cell_type": "code",
   "execution_count": 7,
   "id": "f68b9778",
   "metadata": {},
   "outputs": [
    {
     "name": "stdout",
     "output_type": "stream",
     "text": [
      "C:\\Users\\asweigart\\accounts.txt\n",
      "C:\\Users\\asweigart\\details.csv\n",
      "C:\\Users\\asweigart\\invite.docx\n",
      "C:\\Users\\sonth\\accounts.txt\n",
      "C:\\Users\\sonth\\details.csv\n",
      "C:\\Users\\sonth\\invite.docx\n",
      "d:\\Studies\\Python\\OS vs Pathlib\\accounts.txt\n",
      "d:\\Studies\\Python\\OS vs Pathlib\\details.csv\n",
      "d:\\Studies\\Python\\OS vs Pathlib\\invite.docx\n"
     ]
    }
   ],
   "source": [
    "import os\n",
    "from pathlib import Path\n",
    "\n",
    "my_files = ['accounts.txt', 'details.csv', 'invite.docx']\n",
    "\n",
    "for filename in my_files:\n",
    "    print(os.path.join('C:\\\\Users\\\\asweigart', filename))\n",
    "\n",
    "home = Path.home()\n",
    "cwd = Path.cwd()\n",
    "for filename in my_files:\n",
    "    print(home / filename)\n",
    "for filename in my_files:\n",
    "    print(cwd / filename)\n",
    "\n",
    "\n"
   ]
  },
  {
   "cell_type": "code",
   "execution_count": 4,
   "id": "572f8f7b",
   "metadata": {},
   "outputs": [
    {
     "name": "stdout",
     "output_type": "stream",
     "text": [
      "D:\\Studies\\Python\n",
      "D:\\Studies\\Python\n",
      "D:\\Studies\\Python\\OS vs Pathlib\n",
      "D:\\Studies\\Python\n"
     ]
    }
   ],
   "source": [
    "import os\n",
    "from pathlib import Path\n",
    "\n",
    "print(os.getcwd())\n",
    "os.chdir(\"D:\\Studies\\Python\")\n",
    "print(os.getcwd())\n",
    "os.chdir(\"D:\\Studies\\Python\\OS vs Pathlib\")\n",
    "\n",
    "\n",
    "print(Path.cwd())\n",
    "os.chdir(\"D:\\Studies\\Python\")\n",
    "print(Path.cwd())\n"
   ]
  },
  {
   "cell_type": "code",
   "execution_count": 14,
   "id": "4eb440b9",
   "metadata": {},
   "outputs": [
    {
     "name": "stdout",
     "output_type": "stream",
     "text": [
      "D:\\Studies\\Python\\OS vs Pathlib\n",
      "D:\\Studies\\Python\\OS vs Pathlib\n",
      "D:\\Studies\\Python\\OS vs Pathlib\n"
     ]
    }
   ],
   "source": [
    "import os\n",
    "from pathlib import Path\n",
    "\n",
    "\n",
    "print(os.getcwd())\n",
    "#os.chdir(\"OS vs Pathlib\")\n",
    "print(Path.cwd())\n",
    "\n",
    "os.makedirs(os.path.join(os.getcwd(),'makedirectory1'),exist_ok=True)\n",
    "\n",
    "wd=Path.cwd()\n",
    "print(wd)\n",
    "(wd / 'makedirectory2'/ 'walrus').mkdir(parents=True,exist_ok=True)"
   ]
  },
  {
   "cell_type": "code",
   "execution_count": null,
   "id": "4a3472eb",
   "metadata": {},
   "outputs": [
    {
     "name": "stdout",
     "output_type": "stream",
     "text": [
      "True\n",
      "False\n",
      "False\n",
      "False\n",
      "False\n"
     ]
    }
   ],
   "source": [
    "import os\n",
    "from pathlib import Path\n",
    "\n",
    "print(os.path.isabs('\\\\'))\n",
    "print(os.path.isabs('.'))\n",
    "print(os.path.isabs('..'))\n",
    "\n",
    "print(Path(\"\\\\\").is_absolute()) # apparently does not work with windows \n",
    "print(Path(\"..\").is_absolute())"
   ]
  },
  {
   "cell_type": "code",
   "execution_count": 9,
   "id": "0a2da0be",
   "metadata": {},
   "outputs": [
    {
     "name": "stdout",
     "output_type": "stream",
     "text": [
      "d:\\Studies\\Python\\OS vs Pathlib\n",
      "d:\\Studies\\Python\n",
      "d:\\Studies\\Python\\OS vs Pathlib\n",
      "D:\\Studies\n",
      "d:\\Studies\\Python\\OS vs Pathlib\n"
     ]
    }
   ],
   "source": [
    "import os\n",
    "from pathlib import Path\n",
    "\n",
    "print(os.getcwd())\n",
    "print(os.path.abspath(\"..\"))\n",
    "print(os.getcwd())\n",
    "\n",
    "print(Path(\"..\\..\").resolve())\n",
    "print(Path().absolute())"
   ]
  },
  {
   "cell_type": "code",
   "execution_count": 3,
   "id": "0996a39a",
   "metadata": {},
   "outputs": [
    {
     "name": "stdout",
     "output_type": "stream",
     "text": [
      "d:\\Studies\\Python\\OS vs Pathlib\n",
      "Python\\OS vs Pathlib\n",
      "d:\\Studies\\Python\\OS vs Pathlib\n",
      "Python\\OS vs Pathlib\n"
     ]
    }
   ],
   "source": [
    "import os\n",
    "from pathlib import Path\n",
    "\n",
    "print(os.getcwd())\n",
    "print(os.path.relpath(os.getcwd(),'d:\\\\Studies'))\n",
    "\n",
    "print(Path.cwd())\n",
    "print(Path(Path.cwd()).relative_to('d:\\\\Studies'))\n"
   ]
  },
  {
   "cell_type": "code",
   "execution_count": 4,
   "id": "87ed40bb",
   "metadata": {},
   "outputs": [
    {
     "name": "stdout",
     "output_type": "stream",
     "text": [
      "True\n",
      "False\n",
      "True\n",
      "False\n",
      "True\n",
      "False\n",
      "True\n",
      "False\n"
     ]
    }
   ],
   "source": [
    "import os\n",
    "\n",
    "print(os.path.exists(\"Url_for_reference.txt\"))\n",
    "print(os.path.exists(\"Url_for_reference\"))\n",
    "print(os.path.exists(\"D:\\Studies\\Python\\OS vs Pathlib\"))\n",
    "print(os.path.exists(\"Url_for_referen.txt\"))\n",
    "\n",
    "from pathlib import Path as path\n",
    "\n",
    "print(path(\"Url_for_reference.txt\").exists())\n",
    "print(path(\"Url_for_reference\").exists())\n",
    "print(path(\"D:\\Studies\\Python\\OS vs Pathlib\").exists())\n",
    "print(path(\"Url_for_referen.txt\").exists())"
   ]
  },
  {
   "cell_type": "code",
   "execution_count": 5,
   "id": "e5e875bd",
   "metadata": {},
   "outputs": [
    {
     "name": "stdout",
     "output_type": "stream",
     "text": [
      "True\n",
      "False\n",
      "False\n",
      "False\n",
      "True\n",
      "False\n",
      "False\n",
      "False\n"
     ]
    }
   ],
   "source": [
    "import os\n",
    "\n",
    "print(os.path.isfile(\"Url_for_reference.txt\"))\n",
    "print(os.path.isfile(\"Url_for_reference\"))\n",
    "print(os.path.isfile(\"D:\\Studies\\Python\\OS vs Pathlib\"))\n",
    "print(os.path.isfile(\"Url_for_referen.txt\"))\n",
    "\n",
    "from pathlib import Path as path\n",
    "\n",
    "print(path(\"Url_for_reference.txt\").is_file())\n",
    "print(path(\"Url_for_reference\").is_file())\n",
    "print(path(\"D:\\Studies\\Python\\OS vs Pathlib\").is_file())\n",
    "print(path(\"Url_for_referen.txt\").is_file())"
   ]
  },
  {
   "cell_type": "code",
   "execution_count": 6,
   "id": "f0a3cb93",
   "metadata": {},
   "outputs": [
    {
     "name": "stdout",
     "output_type": "stream",
     "text": [
      "False\n",
      "False\n",
      "True\n",
      "False\n",
      "False\n",
      "False\n",
      "True\n",
      "False\n"
     ]
    }
   ],
   "source": [
    "import os\n",
    "\n",
    "print(os.path.isdir(\"Url_for_reference.txt\"))\n",
    "print(os.path.isdir(\"Url_for_reference\"))\n",
    "print(os.path.isdir(\"D:\\Studies\\Python\\OS vs Pathlib\"))\n",
    "print(os.path.isdir(\"Url_for_referen.txt\"))\n",
    "\n",
    "from pathlib import Path as path\n",
    "\n",
    "print(path(\"Url_for_reference.txt\").is_dir())\n",
    "print(path(\"Url_for_reference\").is_dir())\n",
    "print(path(\"D:\\Studies\\Python\\OS vs Pathlib\").is_dir())\n",
    "print(path(\"Url_for_referen.txt\").is_dir())"
   ]
  },
  {
   "cell_type": "code",
   "execution_count": 11,
   "id": "d6a9cbc4",
   "metadata": {},
   "outputs": [
    {
     "name": "stdout",
     "output_type": "stream",
     "text": [
      "122\n",
      "122\n",
      "122\n"
     ]
    }
   ],
   "source": [
    "import os\n",
    "\n",
    "print(os.path.getsize(\"Url_for_reference.txt\"))\n",
    "#print(os.path.getsize(\"Url_for_referen.txt\")) # throws an error\n",
    "print(os.stat(\"Url_for_reference.txt\").st_size)\n",
    "\n",
    "\n",
    "from pathlib import Path\n",
    "\n",
    "print(Path(\"Url_for_reference.txt\").stat().st_size)"
   ]
  },
  {
   "cell_type": "code",
   "execution_count": 21,
   "id": "fcc0875e",
   "metadata": {},
   "outputs": [
    {
     "name": "stdout",
     "output_type": "stream",
     "text": [
      "['makedirectory1', 'makedirectory2', 'OS_PATHLIB.ipynb', 'pathlib_cheatsheet.png', 'Url_for_reference.txt']\n",
      "['makedirectory1', 'makedirectory2', 'OS_PATHLIB.ipynb', 'pathlib_cheatsheet.png', 'Url_for_reference.txt']\n",
      "<generator object Path.iterdir at 0x0000027BF3303BC0>\n",
      "makedirectory1\n",
      "makedirectory2\n",
      "OS_PATHLIB.ipynb\n",
      "pathlib_cheatsheet.png\n",
      "Url_for_reference.txt\n",
      "D:\\Studies\\Python\\OS vs Pathlib\\makedirectory1\n",
      "D:\\Studies\\Python\\OS vs Pathlib\\makedirectory2\n",
      "D:\\Studies\\Python\\OS vs Pathlib\\OS_PATHLIB.ipynb\n",
      "D:\\Studies\\Python\\OS vs Pathlib\\pathlib_cheatsheet.png\n",
      "D:\\Studies\\Python\\OS vs Pathlib\\Url_for_reference.txt\n"
     ]
    }
   ],
   "source": [
    "import os\n",
    "\n",
    "print(os.listdir(os.getcwd()))\n",
    "print(os.listdir(\"D:\\Studies\\Python\\OS vs Pathlib\"))\n",
    "\n",
    "from pathlib import Path\n",
    "\n",
    "\n",
    "print(Path().iterdir())\n",
    "for f in path().iterdir():\n",
    "    print(f)\n",
    "\n",
    "for g in path(\"D:\\Studies\\Python\\OS vs Pathlib\").iterdir():\n",
    "    print(g)\n"
   ]
  },
  {
   "cell_type": "code",
   "execution_count": 24,
   "id": "a2023b61",
   "metadata": {},
   "outputs": [
    {
     "name": "stdout",
     "output_type": "stream",
     "text": [
      "365210\n",
      "365210\n"
     ]
    }
   ],
   "source": [
    "import os\n",
    "totalsize=0\n",
    "\n",
    "for f in os.listdir(os.getcwd()):\n",
    "    totalsize += os.path.getsize(os.path.join(os.getcwd(),f))\n",
    "print(totalsize)\n",
    "\n",
    "from pathlib import Path\n",
    "totalsize=0\n",
    "for f in Path().iterdir():\n",
    "    totalsize+= Path(f).stat().st_size\n",
    "\n",
    "print(totalsize)"
   ]
  },
  {
   "cell_type": "code",
   "execution_count": 56,
   "id": "22fbd322",
   "metadata": {},
   "outputs": [],
   "source": [
    "import os\n",
    "from pathlib import Path\n",
    "import shutil\n",
    "\n",
    "shutil.copy(\"Url_for_reference.txt\",\"Url_for_reference1.txt\")\n",
    "shutil.copy(\"Url_for_reference.txt\",\"Url_for_reference2.txt\")\n",
    "\n",
    "os.unlink(\"Url_for_reference1.txt\")\n",
    "#os.unlink(\"Url_for_referencee.txt\") error\n",
    "\n",
    "Path(\"Url_for_reference2.txt\").unlink()"
   ]
  },
  {
   "cell_type": "code",
   "execution_count": 37,
   "id": "64146d55",
   "metadata": {},
   "outputs": [
    {
     "data": {
      "text/plain": [
       "WindowsPath('d:/Studies/Python/OS vs Pathlib/makedirectory2/Url_for_reference.txt')"
      ]
     },
     "execution_count": 37,
     "metadata": {},
     "output_type": "execute_result"
    }
   ],
   "source": [
    "import shutil\n",
    "from pathlib import Path\n",
    "\n",
    "shutil.move(Path()/'Url_for_reference.txt',Path()/ 'makedirectory1')\n",
    "#print(Path().cwd()/ 'makedirectory1'/ 'Url_for_reference.txt',Path('..').resolve())\n",
    "shutil.copy(Path().cwd()/ 'makedirectory1'/ 'Url_for_reference.txt',Path().cwd()/'Url_for_reference.txt')\n",
    "shutil.copy2(Path().cwd()/ 'makedirectory1'/ 'Url_for_reference.txt',Path().cwd() / 'makedirectory2' /'Url_for_reference.txt')"
   ]
  },
  {
   "cell_type": "code",
   "execution_count": null,
   "id": "2724d5b5",
   "metadata": {},
   "outputs": [
    {
     "name": "stdout",
     "output_type": "stream",
     "text": [
      "d:\\Studies\\Python\\OS vs Pathlib d:\\Studies\\Python\\OS vs Pathlib\\testcopytree\n"
     ]
    },
    {
     "data": {
      "text/plain": [
       "WindowsPath('d:/Studies/Python/OS vs Pathlib/testcopytree')"
      ]
     },
     "execution_count": 45,
     "metadata": {},
     "output_type": "execute_result"
    }
   ],
   "source": [
    "import shutil\n",
    "from pathlib import Path\n",
    "import os\n",
    "\n",
    "os.makedirs(os.path.join(os.getcwd(),'testcopytree'),exist_ok=True)\n",
    "print(Path.cwd(),Path.cwd() / 'testcopytree')\n",
    "shutil.copytree(Path.cwd(),Path.cwd() / 'testcopytree',dirs_exist_ok=True) # it tries to recreate the destination folder and throws error if found already existing"
   ]
  },
  {
   "cell_type": "code",
   "execution_count": null,
   "id": "93be37da",
   "metadata": {},
   "outputs": [],
   "source": [
    "import os\n",
    "from pathlib import Path\n",
    "import shutil\n",
    "\n",
    "(Path.cwd()/\"deletedirectory\"/\"deletedirectory\" ).mkdir(parents=True,exist_ok=True)\n",
    "\n",
    "#os.rmdir(\"deletedirectory\") # error when subdirectories\n",
    "#os.removedirs(\"deletedirectory\") #error when subdirectories\n",
    "shutil.rmtree(\"deletedirectory\")"
   ]
  },
  {
   "cell_type": "code",
   "execution_count": 14,
   "id": "ec50b5c9",
   "metadata": {},
   "outputs": [
    {
     "name": "stdout",
     "output_type": "stream",
     "text": [
      "D:\\Studies\\Python\\OS vs Pathlib\n",
      "Url_for_reference.txt\n",
      "('D:\\\\Studies\\\\Python\\\\OS vs Pathlib\\\\Url_for_reference', '.txt')\n",
      "('D:\\\\Studies\\\\Python\\\\OS vs Pathlib', 'Url_for_reference.txt')\n",
      "D:\\Studies\\Python\\OS vs Pathlib\\Url_for_reference.txt\n",
      "D:\\Studies\\Python\\OS vs Pathlib\n",
      "Url_for_reference.txt\n",
      "Url_for_reference\n",
      ".txt\n"
     ]
    }
   ],
   "source": [
    "import os\n",
    "\n",
    "print(os.path.dirname(r\"D:\\Studies\\Python\\OS vs Pathlib\\Url_for_reference.txt\"))\n",
    "print(os.path.basename(r\"D:\\Studies\\Python\\OS vs Pathlib\\Url_for_reference.txt\"))\n",
    "print(os.path.splitext(r\"D:\\Studies\\Python\\OS vs Pathlib\\Url_for_reference.txt\"))\n",
    "print(os.path.split(r\"D:\\Studies\\Python\\OS vs Pathlib\\Url_for_reference.txt\"))\n",
    "print(os.path.realpath(r\"D:\\Studies\\Python\\OS vs Pathlib\\Url_for_reference.txt\"))\n",
    "\n",
    "from pathlib import Path, PurePath\n",
    "\n",
    "print(Path(r\"D:\\Studies\\Python\\OS vs Pathlib\\Url_for_reference.txt\").parent)\n",
    "print(Path(r\"D:\\Studies\\Python\\OS vs Pathlib\\Url_for_reference.txt\").name)\n",
    "print(Path(r\"D:\\Studies\\Python\\OS vs Pathlib\\Url_for_reference.txt\").stem)\n",
    "print(Path(r\"D:\\Studies\\Python\\OS vs Pathlib\\Url_for_reference.txt\").suffix)"
   ]
  },
  {
   "cell_type": "code",
   "execution_count": null,
   "id": "a2e3461f",
   "metadata": {},
   "outputs": [
    {
     "name": "stdout",
     "output_type": "stream",
     "text": [
      "d:\\Studies\\Python\\OS vs Pathlib\n",
      "['makedirectory1', 'makedirectory2', 'testcopytree']\n",
      "['OS_PATHLIB.ipynb', 'pathlib_cheatsheet.png', 'Url_for_reference.txt']\n",
      "d:\\Studies\\Python\\OS vs Pathlib\\makedirectory1\n",
      "[]\n",
      "['Url_for_reference.txt']\n",
      "d:\\Studies\\Python\\OS vs Pathlib\\makedirectory2\n",
      "['walrus']\n",
      "['Url_for_reference.txt']\n",
      "d:\\Studies\\Python\\OS vs Pathlib\\makedirectory2\\walrus\n",
      "[]\n",
      "[]\n",
      "d:\\Studies\\Python\\OS vs Pathlib\\testcopytree\n",
      "['makedirectory1', 'makedirectory2', 'testcopytree']\n",
      "['OS_PATHLIB.ipynb', 'pathlib_cheatsheet.png', 'Url_for_reference.txt']\n",
      "d:\\Studies\\Python\\OS vs Pathlib\\testcopytree\\makedirectory1\n",
      "[]\n",
      "['Url_for_reference.txt']\n",
      "d:\\Studies\\Python\\OS vs Pathlib\\testcopytree\\makedirectory2\n",
      "['walrus']\n",
      "['Url_for_reference.txt']\n",
      "d:\\Studies\\Python\\OS vs Pathlib\\testcopytree\\makedirectory2\\walrus\n",
      "[]\n",
      "[]\n",
      "d:\\Studies\\Python\\OS vs Pathlib\\testcopytree\\testcopytree\n",
      "['makedirectory1', 'makedirectory2']\n",
      "['OS_PATHLIB.ipynb', 'pathlib_cheatsheet.png']\n",
      "d:\\Studies\\Python\\OS vs Pathlib\\testcopytree\\testcopytree\\makedirectory1\n",
      "[]\n",
      "['Url_for_reference.txt']\n",
      "d:\\Studies\\Python\\OS vs Pathlib\\testcopytree\\testcopytree\\makedirectory2\n",
      "['walrus']\n",
      "['Url_for_reference.txt']\n",
      "d:\\Studies\\Python\\OS vs Pathlib\\testcopytree\\testcopytree\\makedirectory2\\walrus\n",
      "[]\n",
      "[]\n"
     ]
    }
   ],
   "source": [
    "import os\n",
    "\n",
    "for folder, subfolder , filename in os.walk(os.getcwd()):\n",
    "    print(folder)\n",
    "    print(subfolder)\n",
    "    print(filename)\n",
    "\n",
    "from pathlib import Path\n",
    "\n",
    "#print(Path.walk()) # only available in 3.12 python"
   ]
  },
  {
   "cell_type": "code",
   "execution_count": 32,
   "id": "419b9499",
   "metadata": {},
   "outputs": [
    {
     "name": "stdout",
     "output_type": "stream",
     "text": [
      "['d:\\\\Studies\\\\Python\\\\OS vs Pathlib\\\\OS_PATHLIB.ipynb']\n",
      "[WindowsPath('d:/Studies/Python/OS vs Pathlib/Url_for_reference.txt')]\n",
      "[WindowsPath('Url_for_reference.txt')]\n",
      "['Url_for_reference.txt']\n"
     ]
    }
   ],
   "source": [
    "import os\n",
    "from glob import glob\n",
    "\n",
    "print(glob(os.path.join(os.getcwd(),'*.ipynb')))\n",
    "\n",
    "\n",
    "from pathlib import Path\n",
    "\n",
    "print(list(Path.cwd().glob(\"*.txt\")))\n",
    "print(list(Path().glob(\"*.txt\")))\n",
    "\n",
    "print(glob(\"*.txt\"))"
   ]
  }
 ],
 "metadata": {
  "kernelspec": {
   "display_name": "virenv",
   "language": "python",
   "name": "python3"
  },
  "language_info": {
   "codemirror_mode": {
    "name": "ipython",
    "version": 3
   },
   "file_extension": ".py",
   "mimetype": "text/x-python",
   "name": "python",
   "nbconvert_exporter": "python",
   "pygments_lexer": "ipython3",
   "version": "3.10.1"
  }
 },
 "nbformat": 4,
 "nbformat_minor": 5
}
