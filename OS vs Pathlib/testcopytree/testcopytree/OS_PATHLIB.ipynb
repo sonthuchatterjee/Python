{
 "cells": [
  {
   "cell_type": "code",
   "execution_count": 8,
   "id": "776df972",
   "metadata": {},
   "outputs": [
    {
     "name": "stdout",
     "output_type": "stream",
     "text": [
      "d:\\Studies\\Python\n",
      "os.stat_result(st_mode=33206, st_ino=9288674231468534, st_dev=337436381, st_nlink=1, st_uid=0, st_gid=0, st_size=55771, st_atime=1627844568, st_mtime=1627583248, st_ctime=1627583028)\n"
     ]
    }
   ],
   "source": [
    "import os\n",
    "import pathlib\n",
    "\n",
    "print(os.getcwd())\n",
    "print(os.stat(os.path.join(os.getcwd(),'yfinance1.csv')))"
   ]
  },
  {
   "cell_type": "code",
   "execution_count": 5,
   "id": "f2c5949a",
   "metadata": {},
   "outputs": [
    {
     "name": "stdout",
     "output_type": "stream",
     "text": [
      "usr\\dfdf\\fgfgfg\n",
      "usr\\dfdf\\fgfgfg\n",
      "usr\\dfdf\\fgfgfg\n"
     ]
    }
   ],
   "source": [
    "import os\n",
    "from pathlib import Path\n",
    "\n",
    "print(os.path.join('usr','dfdf','fgfgfg'))\n",
    "print(Path('usr').joinpath('dfdf').joinpath('fgfgfg'))\n",
    "print(Path('usr') / 'dfdf' / 'fgfgfg')"
   ]
  },
  {
   "cell_type": "code",
   "execution_count": 7,
   "id": "f68b9778",
   "metadata": {},
   "outputs": [
    {
     "name": "stdout",
     "output_type": "stream",
     "text": [
      "C:\\Users\\asweigart\\accounts.txt\n",
      "C:\\Users\\asweigart\\details.csv\n",
      "C:\\Users\\asweigart\\invite.docx\n",
      "C:\\Users\\sonth\\accounts.txt\n",
      "C:\\Users\\sonth\\details.csv\n",
      "C:\\Users\\sonth\\invite.docx\n",
      "d:\\Studies\\Python\\OS vs Pathlib\\accounts.txt\n",
      "d:\\Studies\\Python\\OS vs Pathlib\\details.csv\n",
      "d:\\Studies\\Python\\OS vs Pathlib\\invite.docx\n"
     ]
    }
   ],
   "source": [
    "import os\n",
    "from pathlib import Path\n",
    "\n",
    "my_files = ['accounts.txt', 'details.csv', 'invite.docx']\n",
    "\n",
    "for filename in my_files:\n",
    "    print(os.path.join('C:\\\\Users\\\\asweigart', filename))\n",
    "\n",
    "home = Path.home()\n",
    "cwd = Path.cwd()\n",
    "for filename in my_files:\n",
    "    print(home / filename)\n",
    "for filename in my_files:\n",
    "    print(cwd / filename)\n",
    "\n",
    "\n"
   ]
  },
  {
   "cell_type": "code",
   "execution_count": 4,
   "id": "572f8f7b",
   "metadata": {},
   "outputs": [
    {
     "name": "stdout",
     "output_type": "stream",
     "text": [
      "D:\\Studies\\Python\n",
      "D:\\Studies\\Python\n",
      "D:\\Studies\\Python\\OS vs Pathlib\n",
      "D:\\Studies\\Python\n"
     ]
    }
   ],
   "source": [
    "import os\n",
    "from pathlib import Path\n",
    "\n",
    "print(os.getcwd())\n",
    "os.chdir(\"D:\\Studies\\Python\")\n",
    "print(os.getcwd())\n",
    "os.chdir(\"D:\\Studies\\Python\\OS vs Pathlib\")\n",
    "\n",
    "\n",
    "print(Path.cwd())\n",
    "os.chdir(\"D:\\Studies\\Python\")\n",
    "print(Path.cwd())\n"
   ]
  },
  {
   "cell_type": "code",
   "execution_count": 14,
   "id": "4eb440b9",
   "metadata": {},
   "outputs": [
    {
     "name": "stdout",
     "output_type": "stream",
     "text": [
      "D:\\Studies\\Python\\OS vs Pathlib\n",
      "D:\\Studies\\Python\\OS vs Pathlib\n",
      "D:\\Studies\\Python\\OS vs Pathlib\n"
     ]
    }
   ],
   "source": [
    "import os\n",
    "from pathlib import Path\n",
    "\n",
    "\n",
    "print(os.getcwd())\n",
    "#os.chdir(\"OS vs Pathlib\")\n",
    "print(Path.cwd())\n",
    "\n",
    "os.makedirs(os.path.join(os.getcwd(),'makedirectory1'),exist_ok=True)\n",
    "\n",
    "wd=Path.cwd()\n",
    "print(wd)\n",
    "(wd / 'makedirectory2'/ 'walrus').mkdir(parents=True,exist_ok=True)"
   ]
  },
  {
   "cell_type": "code",
   "execution_count": null,
   "id": "4a3472eb",
   "metadata": {},
   "outputs": [
    {
     "name": "stdout",
     "output_type": "stream",
     "text": [
      "True\n",
      "False\n",
      "False\n",
      "False\n",
      "False\n"
     ]
    }
   ],
   "source": [
    "import os\n",
    "from pathlib import Path\n",
    "\n",
    "print(os.path.isabs('\\\\'))\n",
    "print(os.path.isabs('.'))\n",
    "print(os.path.isabs('..'))\n",
    "\n",
    "print(Path(\"\\\\\").is_absolute()) # apparently does not work with windows \n",
    "print(Path(\"..\").is_absolute())"
   ]
  },
  {
   "cell_type": "code",
   "execution_count": 31,
   "id": "0a2da0be",
   "metadata": {},
   "outputs": [
    {
     "name": "stdout",
     "output_type": "stream",
     "text": [
      "D:\\Studies\\Python\\OS vs Pathlib\n",
      "D:\\Studies\\Python\n",
      "D:\\Studies\\Python\\OS vs Pathlib\n",
      "D:\\Studies\n"
     ]
    }
   ],
   "source": [
    "import os\n",
    "from pathlib import Path\n",
    "\n",
    "print(os.getcwd())\n",
    "print(os.path.abspath(\"..\"))\n",
    "print(os.getcwd())\n",
    "\n",
    "print(Path(\"..\\..\").resolve())"
   ]
  },
  {
   "cell_type": "code",
   "execution_count": 3,
   "id": "0996a39a",
   "metadata": {},
   "outputs": [
    {
     "name": "stdout",
     "output_type": "stream",
     "text": [
      "d:\\Studies\\Python\\OS vs Pathlib\n",
      "Python\\OS vs Pathlib\n",
      "d:\\Studies\\Python\\OS vs Pathlib\n",
      "Python\\OS vs Pathlib\n"
     ]
    }
   ],
   "source": [
    "import os\n",
    "from pathlib import Path\n",
    "\n",
    "print(os.getcwd())\n",
    "print(os.path.relpath(os.getcwd(),'d:\\\\Studies'))\n",
    "\n",
    "print(Path.cwd())\n",
    "print(Path(Path.cwd()).relative_to('d:\\\\Studies'))\n"
   ]
  },
  {
   "cell_type": "code",
   "execution_count": 4,
   "id": "87ed40bb",
   "metadata": {},
   "outputs": [
    {
     "name": "stdout",
     "output_type": "stream",
     "text": [
      "True\n",
      "False\n",
      "True\n",
      "False\n",
      "True\n",
      "False\n",
      "True\n",
      "False\n"
     ]
    }
   ],
   "source": [
    "import os\n",
    "\n",
    "print(os.path.exists(\"Url_for_reference.txt\"))\n",
    "print(os.path.exists(\"Url_for_reference\"))\n",
    "print(os.path.exists(\"D:\\Studies\\Python\\OS vs Pathlib\"))\n",
    "print(os.path.exists(\"Url_for_referen.txt\"))\n",
    "\n",
    "from pathlib import Path as path\n",
    "\n",
    "print(path(\"Url_for_reference.txt\").exists())\n",
    "print(path(\"Url_for_reference\").exists())\n",
    "print(path(\"D:\\Studies\\Python\\OS vs Pathlib\").exists())\n",
    "print(path(\"Url_for_referen.txt\").exists())"
   ]
  },
  {
   "cell_type": "code",
   "execution_count": 5,
   "id": "e5e875bd",
   "metadata": {},
   "outputs": [
    {
     "name": "stdout",
     "output_type": "stream",
     "text": [
      "True\n",
      "False\n",
      "False\n",
      "False\n",
      "True\n",
      "False\n",
      "False\n",
      "False\n"
     ]
    }
   ],
   "source": [
    "import os\n",
    "\n",
    "print(os.path.isfile(\"Url_for_reference.txt\"))\n",
    "print(os.path.isfile(\"Url_for_reference\"))\n",
    "print(os.path.isfile(\"D:\\Studies\\Python\\OS vs Pathlib\"))\n",
    "print(os.path.isfile(\"Url_for_referen.txt\"))\n",
    "\n",
    "from pathlib import Path as path\n",
    "\n",
    "print(path(\"Url_for_reference.txt\").is_file())\n",
    "print(path(\"Url_for_reference\").is_file())\n",
    "print(path(\"D:\\Studies\\Python\\OS vs Pathlib\").is_file())\n",
    "print(path(\"Url_for_referen.txt\").is_file())"
   ]
  },
  {
   "cell_type": "code",
   "execution_count": 6,
   "id": "f0a3cb93",
   "metadata": {},
   "outputs": [
    {
     "name": "stdout",
     "output_type": "stream",
     "text": [
      "False\n",
      "False\n",
      "True\n",
      "False\n",
      "False\n",
      "False\n",
      "True\n",
      "False\n"
     ]
    }
   ],
   "source": [
    "import os\n",
    "\n",
    "print(os.path.isdir(\"Url_for_reference.txt\"))\n",
    "print(os.path.isdir(\"Url_for_reference\"))\n",
    "print(os.path.isdir(\"D:\\Studies\\Python\\OS vs Pathlib\"))\n",
    "print(os.path.isdir(\"Url_for_referen.txt\"))\n",
    "\n",
    "from pathlib import Path as path\n",
    "\n",
    "print(path(\"Url_for_reference.txt\").is_dir())\n",
    "print(path(\"Url_for_reference\").is_dir())\n",
    "print(path(\"D:\\Studies\\Python\\OS vs Pathlib\").is_dir())\n",
    "print(path(\"Url_for_referen.txt\").is_dir())"
   ]
  },
  {
   "cell_type": "code",
   "execution_count": 11,
   "id": "d6a9cbc4",
   "metadata": {},
   "outputs": [
    {
     "name": "stdout",
     "output_type": "stream",
     "text": [
      "122\n",
      "122\n",
      "122\n"
     ]
    }
   ],
   "source": [
    "import os\n",
    "\n",
    "print(os.path.getsize(\"Url_for_reference.txt\"))\n",
    "#print(os.path.getsize(\"Url_for_referen.txt\")) # throws an error\n",
    "print(os.stat(\"Url_for_reference.txt\").st_size)\n",
    "\n",
    "\n",
    "from pathlib import Path\n",
    "\n",
    "print(Path(\"Url_for_reference.txt\").stat().st_size)"
   ]
  },
  {
   "cell_type": "code",
   "execution_count": 21,
   "id": "fcc0875e",
   "metadata": {},
   "outputs": [
    {
     "name": "stdout",
     "output_type": "stream",
     "text": [
      "['makedirectory1', 'makedirectory2', 'OS_PATHLIB.ipynb', 'pathlib_cheatsheet.png', 'Url_for_reference.txt']\n",
      "['makedirectory1', 'makedirectory2', 'OS_PATHLIB.ipynb', 'pathlib_cheatsheet.png', 'Url_for_reference.txt']\n",
      "<generator object Path.iterdir at 0x0000027BF3303BC0>\n",
      "makedirectory1\n",
      "makedirectory2\n",
      "OS_PATHLIB.ipynb\n",
      "pathlib_cheatsheet.png\n",
      "Url_for_reference.txt\n",
      "D:\\Studies\\Python\\OS vs Pathlib\\makedirectory1\n",
      "D:\\Studies\\Python\\OS vs Pathlib\\makedirectory2\n",
      "D:\\Studies\\Python\\OS vs Pathlib\\OS_PATHLIB.ipynb\n",
      "D:\\Studies\\Python\\OS vs Pathlib\\pathlib_cheatsheet.png\n",
      "D:\\Studies\\Python\\OS vs Pathlib\\Url_for_reference.txt\n"
     ]
    }
   ],
   "source": [
    "import os\n",
    "\n",
    "print(os.listdir(os.getcwd()))\n",
    "print(os.listdir(\"D:\\Studies\\Python\\OS vs Pathlib\"))\n",
    "\n",
    "from pathlib import Path\n",
    "\n",
    "\n",
    "print(Path().iterdir())\n",
    "for f in path().iterdir():\n",
    "    print(f)\n",
    "\n",
    "for g in path(\"D:\\Studies\\Python\\OS vs Pathlib\").iterdir():\n",
    "    print(g)\n"
   ]
  },
  {
   "cell_type": "code",
   "execution_count": 24,
   "id": "a2023b61",
   "metadata": {},
   "outputs": [
    {
     "name": "stdout",
     "output_type": "stream",
     "text": [
      "365210\n",
      "365210\n"
     ]
    }
   ],
   "source": [
    "import os\n",
    "totalsize=0\n",
    "\n",
    "for f in os.listdir(os.getcwd()):\n",
    "    totalsize += os.path.getsize(os.path.join(os.getcwd(),f))\n",
    "print(totalsize)\n",
    "\n",
    "from pathlib import Path\n",
    "totalsize=0\n",
    "for f in Path().iterdir():\n",
    "    totalsize+= Path(f).stat().st_size\n",
    "\n",
    "print(totalsize)"
   ]
  },
  {
   "cell_type": "code",
   "execution_count": null,
   "id": "64146d55",
   "metadata": {},
   "outputs": [
    {
     "ename": "TypeError",
     "evalue": "copy2() takes 2 positional arguments but 3 were given",
     "output_type": "error",
     "traceback": [
      "\u001b[1;31m---------------------------------------------------------------------------\u001b[0m",
      "\u001b[1;31mTypeError\u001b[0m                                 Traceback (most recent call last)",
      "Cell \u001b[1;32mIn[36], line 7\u001b[0m\n\u001b[0;32m      5\u001b[0m \u001b[38;5;66;03m#print(Path().cwd()/ 'makedirectory1'/ 'Url_for_reference.txt',Path('..').resolve())\u001b[39;00m\n\u001b[0;32m      6\u001b[0m shutil\u001b[38;5;241m.\u001b[39mcopy(Path()\u001b[38;5;241m.\u001b[39mcwd()\u001b[38;5;241m/\u001b[39m \u001b[38;5;124m'\u001b[39m\u001b[38;5;124mmakedirectory1\u001b[39m\u001b[38;5;124m'\u001b[39m\u001b[38;5;241m/\u001b[39m \u001b[38;5;124m'\u001b[39m\u001b[38;5;124mUrl_for_reference.txt\u001b[39m\u001b[38;5;124m'\u001b[39m,Path()\u001b[38;5;241m.\u001b[39mcwd()\u001b[38;5;241m/\u001b[39m\u001b[38;5;124m'\u001b[39m\u001b[38;5;124mUrl_for_reference.txt\u001b[39m\u001b[38;5;124m'\u001b[39m)\n\u001b[1;32m----> 7\u001b[0m \u001b[43mshutil\u001b[49m\u001b[38;5;241;43m.\u001b[39;49m\u001b[43mcopy2\u001b[49m\u001b[43m(\u001b[49m\u001b[43mPath\u001b[49m\u001b[43m(\u001b[49m\u001b[43m)\u001b[49m\u001b[38;5;241;43m.\u001b[39;49m\u001b[43mcwd\u001b[49m\u001b[43m(\u001b[49m\u001b[43m)\u001b[49m\u001b[38;5;241;43m/\u001b[39;49m\u001b[43m \u001b[49m\u001b[38;5;124;43m'\u001b[39;49m\u001b[38;5;124;43mmakedirectory1\u001b[39;49m\u001b[38;5;124;43m'\u001b[39;49m\u001b[38;5;241;43m/\u001b[39;49m\u001b[43m \u001b[49m\u001b[38;5;124;43m'\u001b[39;49m\u001b[38;5;124;43mUrl_for_reference.txt\u001b[39;49m\u001b[38;5;124;43m'\u001b[39;49m\u001b[43m,\u001b[49m\u001b[43mPath\u001b[49m\u001b[43m(\u001b[49m\u001b[43m)\u001b[49m\u001b[38;5;241;43m.\u001b[39;49m\u001b[43mcwd\u001b[49m\u001b[43m(\u001b[49m\u001b[43m)\u001b[49m\u001b[38;5;241;43m/\u001b[39;49m\u001b[43m \u001b[49m\u001b[38;5;124;43m'\u001b[39;49m\u001b[38;5;124;43mmakedirectory2\u001b[39;49m\u001b[38;5;124;43m'\u001b[39;49m\u001b[43m,\u001b[49m\u001b[38;5;124;43m'\u001b[39;49m\u001b[38;5;124;43mUrl_for_reference.txt\u001b[39;49m\u001b[38;5;124;43m'\u001b[39;49m\u001b[43m)\u001b[49m\n",
      "\u001b[1;31mTypeError\u001b[0m: copy2() takes 2 positional arguments but 3 were given"
     ]
    }
   ],
   "source": [
    "import shutil\n",
    "from pathlib import Path\n",
    "\n",
    "shutil.move(Path()/'Url_for_reference.txt',Path()/ 'makedirectory1')\n",
    "#print(Path().cwd()/ 'makedirectory1'/ 'Url_for_reference.txt',Path('..').resolve())\n",
    "shutil.copy(Path().cwd()/ 'makedirectory1'/ 'Url_for_reference.txt',Path().cwd()/'Url_for_reference.txt')\n",
    "shutil.copy2(Path().cwd()/ 'makedirectory1'/ 'Url_for_reference.txt',Path().cwd() / 'makedirectory2' /'Url_for_reference.txt')"
   ]
  }
 ],
 "metadata": {
  "kernelspec": {
   "display_name": "virenv",
   "language": "python",
   "name": "python3"
  },
  "language_info": {
   "codemirror_mode": {
    "name": "ipython",
    "version": 3
   },
   "file_extension": ".py",
   "mimetype": "text/x-python",
   "name": "python",
   "nbconvert_exporter": "python",
   "pygments_lexer": "ipython3",
   "version": "3.10.1"
  }
 },
 "nbformat": 4,
 "nbformat_minor": 5
}
