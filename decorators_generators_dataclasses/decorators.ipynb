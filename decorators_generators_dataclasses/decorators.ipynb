{
 "cells": [
  {
   "cell_type": "code",
   "execution_count": 1,
   "id": "ae170476",
   "metadata": {},
   "outputs": [
    {
     "name": "stdout",
     "output_type": "stream",
     "text": [
      "5\n"
     ]
    }
   ],
   "source": [
    "import numpy as np\n",
    "\n",
    "def deco():\n",
    "\n",
    "    def wrapper(x=2,y=3):\n",
    "\n",
    "        result=x+y\n",
    "        return result\n",
    "\n",
    "    return wrapper()\n",
    "\n",
    "\n",
    "def addd(x,y):\n",
    "    return x+y\n",
    "\n",
    "\n",
    "print(deco())"
   ]
  },
  {
   "cell_type": "code",
   "execution_count": 2,
   "id": "749ccd72",
   "metadata": {},
   "outputs": [
    {
     "name": "stdout",
     "output_type": "stream",
     "text": [
      "5\n"
     ]
    }
   ],
   "source": [
    "def deco():\n",
    "\n",
    "    def wrapper(x=2,y=3):\n",
    "\n",
    "        result=x+y\n",
    "        return result\n",
    "\n",
    "    return wrapper\n",
    "\n",
    "\n",
    "dec=deco()\n",
    "print(dec())"
   ]
  },
  {
   "cell_type": "code",
   "execution_count": 3,
   "id": "f5b14873",
   "metadata": {},
   "outputs": [
    {
     "name": "stdout",
     "output_type": "stream",
     "text": [
      "**************************************************\n",
      "addd\n"
     ]
    },
    {
     "data": {
      "text/plain": [
       "5"
      ]
     },
     "execution_count": 3,
     "metadata": {},
     "output_type": "execute_result"
    }
   ],
   "source": [
    "def deco(func):\n",
    "\n",
    "    def wrapper(*args):\n",
    "        print('*'*50)\n",
    "        print(f\"{func.__name__}\")\n",
    "        result=func(*args)\n",
    "        return result\n",
    "\n",
    "    return wrapper\n",
    "\n",
    "@deco\n",
    "def addd(x,y):\n",
    "    return x+y\n",
    "\n",
    "addd(2,3)\n"
   ]
  },
  {
   "cell_type": "code",
   "execution_count": 4,
   "id": "ab478c75",
   "metadata": {},
   "outputs": [
    {
     "name": "stdout",
     "output_type": "stream",
     "text": [
      "outer function\n",
      "Before function call\n",
      "Hello!\n",
      "After function call\n",
      "wrapper\n",
      "None\n"
     ]
    }
   ],
   "source": [
    "def my_decorator(func):\n",
    "    print(\"outer function\")\n",
    "    def wrapper():\n",
    "        print(\"Before function call\")\n",
    "        func()\n",
    "        print(\"After function call\")\n",
    "    return wrapper\n",
    "\n",
    "@my_decorator\n",
    "def say_hello():\n",
    "    print(\"Hello!\")\n",
    "\n",
    "say_hello()\n",
    "\n",
    "print(say_hello.__name__)\n",
    "print(say_hello.__doc__)"
   ]
  },
  {
   "cell_type": "code",
   "execution_count": 5,
   "id": "4def4fca",
   "metadata": {},
   "outputs": [
    {
     "name": "stdout",
     "output_type": "stream",
     "text": [
      "outer function\n",
      "Before function call\n",
      "Hello!\n",
      "After function call\n",
      "say_hello\n",
      "None\n"
     ]
    }
   ],
   "source": [
    "import functools\n",
    "\n",
    "def my_decorator(func):\n",
    "    print(\"outer function\")\n",
    "    @functools.wraps(func)\n",
    "    def wrapper():\n",
    "        print(\"Before function call\")\n",
    "        func()\n",
    "        print(\"After function call\")\n",
    "    return wrapper\n",
    "\n",
    "@my_decorator\n",
    "def say_hello():\n",
    "    print(\"Hello!\")\n",
    "\n",
    "say_hello()\n",
    "\n",
    "print(say_hello.__name__)\n",
    "print(say_hello.__doc__)"
   ]
  },
  {
   "cell_type": "code",
   "execution_count": 25,
   "id": "06cf6bf1",
   "metadata": {},
   "outputs": [
    {
     "name": "stdout",
     "output_type": "stream",
     "text": [
      "Hello! here\n",
      "['Hello!', 'here']\n",
      "say_hello\n",
      "None\n"
     ]
    }
   ],
   "source": [
    "import functools\n",
    "\n",
    "def split(func):\n",
    "    @functools.wraps(func)\n",
    "    def wrapper1():\n",
    "        funcc=func()\n",
    "        print(funcc)\n",
    "        x=funcc.split()\n",
    "        return x\n",
    "    return wrapper1\n",
    "\n",
    "def my_decorator(func):\n",
    "    #print(\"outer function\")\n",
    "    @functools.wraps(func)\n",
    "    def wrapper():\n",
    "        #print(\"Before function call\")\n",
    "        x=func()\n",
    "        #print(\"After function call\")\n",
    "        return x\n",
    "    return wrapper\n",
    "\n",
    "@split\n",
    "@my_decorator\n",
    "def say_hello():\n",
    "    return \"Hello! here\"\n",
    "\n",
    "print(say_hello())\n",
    "\n",
    "print(say_hello.__name__)\n",
    "print(say_hello.__doc__)"
   ]
  },
  {
   "cell_type": "code",
   "execution_count": 26,
   "id": "533e8724",
   "metadata": {},
   "outputs": [
    {
     "name": "stdout",
     "output_type": "stream",
     "text": [
      "Hello! here\n"
     ]
    }
   ],
   "source": [
    "class my_decorator():\n",
    "\n",
    "    def __init__(self,function):\n",
    "        self.function = function\n",
    "\n",
    "    def __call__(self,*args,**kwargs):\n",
    "        return self.function(*args,**kwargs)\n",
    "\n",
    "\n",
    "@my_decorator\n",
    "def say_hello():\n",
    "    return \"Hello! here\"\n",
    "\n",
    "print(say_hello())"
   ]
  },
  {
   "cell_type": "code",
   "execution_count": 28,
   "id": "baebce64",
   "metadata": {},
   "outputs": [
    {
     "name": "stdout",
     "output_type": "stream",
     "text": [
      "the function say_hello has been called 1 times\n",
      "Hello! here\n",
      "the function say_hello has been called 2 times\n",
      "Hello! here\n"
     ]
    }
   ],
   "source": [
    "class my_decorator():\n",
    "\n",
    "    def __init__(self,function):\n",
    "        self.function = function\n",
    "        self.count = 0\n",
    "\n",
    "    def __call__(self,*args,**kwargs):\n",
    "        self.count+=1\n",
    "        print(f\"the function say_hello has been called {self.count} times\")\n",
    "        return self.function(*args,**kwargs)\n",
    "\n",
    "\n",
    "@my_decorator\n",
    "def say_hello():\n",
    "    return \"Hello! here\"\n",
    "\n",
    "print(say_hello())\n",
    "print(say_hello())"
   ]
  }
 ],
 "metadata": {
  "kernelspec": {
   "display_name": "env",
   "language": "python",
   "name": "python3"
  },
  "language_info": {
   "codemirror_mode": {
    "name": "ipython",
    "version": 3
   },
   "file_extension": ".py",
   "mimetype": "text/x-python",
   "name": "python",
   "nbconvert_exporter": "python",
   "pygments_lexer": "ipython3",
   "version": "3.10.1"
  }
 },
 "nbformat": 4,
 "nbformat_minor": 5
}
