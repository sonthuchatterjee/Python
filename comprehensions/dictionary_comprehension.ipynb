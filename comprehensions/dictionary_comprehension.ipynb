{
 "cells": [
  {
   "cell_type": "code",
   "execution_count": 4,
   "id": "236959d3",
   "metadata": {},
   "outputs": [
    {
     "name": "stdout",
     "output_type": "stream",
     "text": [
      "{'a': 2, 'b': 3}\n",
      "{'a': 4, 'b': 9}\n"
     ]
    }
   ],
   "source": [
    "import os\n",
    "dic={'a':2,'b':3}\n",
    "print(dic)\n",
    "\n",
    "dic1 = {x:y**2 for x,y in dic.items()}\n",
    "print(dic1)"
   ]
  },
  {
   "cell_type": "code",
   "execution_count": null,
   "id": "37cd3027",
   "metadata": {},
   "outputs": [
    {
     "name": "stdout",
     "output_type": "stream",
     "text": [
      "[4, 9]\n",
      "{'a': 4, 'c': 16}\n",
      "{'a': 4, True: 3, 'c': 8}\n"
     ]
    }
   ],
   "source": [
    "# dictionary to list data\n",
    "data = [x**2 for y,x in dic.items()]\n",
    "print(data)\n",
    "\n",
    "ex={'a':2,True:3,'c':4}\n",
    "ex1 = {x:y**2 for x,y in ex.items() if isinstance(x,str)}\n",
    "print(ex1)\n",
    "\n",
    "#if else condition\n",
    "ex2 = {x:y**2 if x == 'a' else y*2 if x =='c' else y  for x,y in ex.items()}\n",
    "print(ex2)"
   ]
  }
 ],
 "metadata": {
  "kernelspec": {
   "display_name": "virenv",
   "language": "python",
   "name": "python3"
  },
  "language_info": {
   "codemirror_mode": {
    "name": "ipython",
    "version": 3
   },
   "file_extension": ".py",
   "mimetype": "text/x-python",
   "name": "python",
   "nbconvert_exporter": "python",
   "pygments_lexer": "ipython3",
   "version": "3.10.1"
  }
 },
 "nbformat": 4,
 "nbformat_minor": 5
}
