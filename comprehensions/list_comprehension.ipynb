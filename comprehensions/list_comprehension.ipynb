{
 "cells": [
  {
   "cell_type": "code",
   "execution_count": null,
   "id": "235863a6",
   "metadata": {},
   "outputs": [
    {
     "name": "stdout",
     "output_type": "stream",
     "text": [
      "['captured_videos', 'CodewithHarry', 'Data Camp', 'geeks_for_geeks', 'Google cloud - Associate cloud engineer', 'Internet', 'OneNeuron Classes', 'Powerbi', 'Python', 'PythonApp On Web', 'tech_with_tim', 'Training_by_Capco', 'tutorialpoints', 'Udemy', 'Udemy Capco', 'virenv', 'youtube']\n",
      "['captured_videos', 'CodewithHarry', 'Data Camp', 'geeks_for_geeks', 'Google cloud - Associate cloud engineer', 'OneNeuron Classes', 'Powerbi', 'Python', 'PythonApp On Web', 'tech_with_tim', 'Training_by_Capco', 'tutorialpoints', 'Udemy', 'Udemy Capco', 'virenv', 'youtube']\n",
      "['captured_videos', 'CodewithHarry', 'Data Camp', 'geeks_for_geeks', 'Google cloud - Associate cloud engineer', 'OneNeuron Classes', 'Powerbi', 'Python', 'PythonApp On Web', 'tech_with_tim', 'Training_by_Capco', 'tutorialpoints', 'Udemy', 'Udemy Capco', 'virenv', 'youtube']\n",
      "All the values match in the compared lists folderlist1 and folderlist2\n",
      "['captured_videos', 'CodewithHarry', 'Data Camp', 'Google cloud - Associate cloud engineer', 'OneNeuron Classes']\n",
      "['captured_videos', 'CodewithHarry', 'Data Camp', 'Google cloud - Associate cloud engineer', 'OneNeuron Classes']\n",
      "All the values match in the compared lists listt1 and listt2\n",
      "All the values do not match in the compared lists listt1 and listt2\n"
     ]
    }
   ],
   "source": [
    "import os\n",
    "folderlist=os.listdir(r\"D:\\Studies\")\n",
    "folderlist1=[]\n",
    "print(folderlist)\n",
    "for i in folderlist:\n",
    "    if os.path.isdir(os.path.join(\"D:\\Studies\",i)):\n",
    "        if i not in ('Internet'):\n",
    "            folderlist1.append(i)\n",
    "print(folderlist1)\n",
    "\n",
    "folderlist2 = [i for i in folderlist if os.path.isdir(os.path.join(\"D:\\Studies\",i)) and i not in ('Internet')]\n",
    "print(folderlist2)\n",
    "\n",
    "if folderlist1 == folderlist2:\n",
    "    print(\"All the values match in the compared lists folderlist1 and folderlist2\")\n",
    "\n",
    "listt=[['captured_videos', 'CodewithHarry', 'Data Camp'],[0,1,2],['Google cloud - Associate cloud engineer', 'Internet', 'OneNeuron Classes']]\n",
    "listt1=[]\n",
    "for i in listt:\n",
    "    for j in i:\n",
    "        if isinstance(j,str) and  j not in ('Internet'):\n",
    "            listt1.append(j)\n",
    "print(listt1)\n",
    "\n",
    "listt2=[ j  for i in listt for j in i if isinstance(j,str) and  j not in ('Internet')]\n",
    "print(listt2)\n",
    "\n",
    "if listt1 == listt2:\n",
    "    print(\"All the values match in the compared lists listt1 and listt2\")\n",
    "\n",
    "if listt != listt2:\n",
    "    print(\"All the values do not match in the compared lists listt1 and listt2\")"
   ]
  },
  {
   "cell_type": "code",
   "execution_count": null,
   "id": "5aff9592",
   "metadata": {},
   "outputs": [
    {
     "name": "stdout",
     "output_type": "stream",
     "text": [
      "[[0, 1, 2], [0, 1, 2]]\n",
      "[['Captured_videos', 'Codewithharry', 'Data camp'], [], ['Google cloud - associate cloud engineer', 'Internet', 'Oneneuron classes']]\n",
      "[['Captured_videos', 'Codewithharry', 'Data camp'], [0, 1, 2], ['Google cloud - associate cloud engineer', 'Internet', 'Oneneuron classes']]\n",
      "['C', 'A', 'F', 'B', 'F']\n"
     ]
    }
   ],
   "source": [
    "testlist = [[j for j in range(3)] for i in range(2)]\n",
    "print(testlist)\n",
    "\n",
    "testlist1=[['captured_videos', 'CodewithHarry', 'Data Camp'],[0,1,2],['Google cloud - Associate cloud engineer', 'Internet', 'OneNeuron Classes']]\n",
    "\n",
    "testlist2 = [[j.capitalize() for j in i if isinstance(j,str)] for i in testlist1]\n",
    "print(testlist2)\n",
    "# if else with 2d domension\n",
    "testlist3 = [[j.capitalize() if isinstance(j,str) else j for j in i ] for i in testlist1]\n",
    "print(testlist3)\n",
    "# if elif else  with 2d domension\n",
    "scores = [75, 90, 45, 88, 60]\n",
    "grades = [\"A\" if score >= 90 else \"B\" if score >= 80 else \"C\" if score >= 70 else \"F\" for score in scores]\n",
    "print(grades)"
   ]
  },
  {
   "cell_type": "code",
   "execution_count": 25,
   "id": "9bf72845",
   "metadata": {},
   "outputs": [
    {
     "name": "stdout",
     "output_type": "stream",
     "text": [
      "['Captured_videos', 'Codewithharry', 'Data camp', 0.0, 1.0, 2.0, 'Google cloud - associate cloud engineer', 'Internet', 'Oneneuron classes', 1.0, 0.0]\n"
     ]
    }
   ],
   "source": [
    "testlistt1=[['captured_videos', 'CodewithHarry', 'Data Camp'],[0,1,2],['Google cloud - Associate cloud engineer', 'Internet', 'OneNeuron Classes'],[True,False]]\n",
    "\n",
    "testlistt2 = [j.capitalize() if isinstance(j,str) else float(j) if isinstance(j,int) else j for i in testlistt1 for j in i]\n",
    "print(testlistt2)"
   ]
  },
  {
   "cell_type": "code",
   "execution_count": 6,
   "id": "55ffac7f",
   "metadata": {},
   "outputs": [
    {
     "ename": "SyntaxError",
     "evalue": "invalid syntax (4137173148.py, line 3)",
     "output_type": "error",
     "traceback": [
      "\u001b[1;36m  Cell \u001b[1;32mIn[6], line 3\u001b[1;36m\u001b[0m\n\u001b[1;33m    testlistt4 = [i for i in testlistt3 while i < 5 ]\u001b[0m\n\u001b[1;37m                                        ^\u001b[0m\n\u001b[1;31mSyntaxError\u001b[0m\u001b[1;31m:\u001b[0m invalid syntax\n"
     ]
    }
   ],
   "source": [
    "testlistt3 = list(range(10))\n",
    "print(testlistt3)\n",
    "testlistt4 = [i for i in testlistt3 while i < 5 ]\n",
    "print(testlistt4)"
   ]
  }
 ],
 "metadata": {
  "kernelspec": {
   "display_name": "virenv",
   "language": "python",
   "name": "python3"
  },
  "language_info": {
   "codemirror_mode": {
    "name": "ipython",
    "version": 3
   },
   "file_extension": ".py",
   "mimetype": "text/x-python",
   "name": "python",
   "nbconvert_exporter": "python",
   "pygments_lexer": "ipython3",
   "version": "3.10.1"
  }
 },
 "nbformat": 4,
 "nbformat_minor": 5
}
