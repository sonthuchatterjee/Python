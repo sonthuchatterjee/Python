{
 "cells": [
  {
   "cell_type": "code",
   "execution_count": 6,
   "id": "07bd0c29",
   "metadata": {},
   "outputs": [
    {
     "name": "stdout",
     "output_type": "stream",
     "text": [
      "['h', 'e', 'l', 'l', 'o']\n",
      "hello\n"
     ]
    }
   ],
   "source": [
    "strr=\"hello\"\n",
    "\n",
    "strr1 = [i for i in strr]\n",
    "print(strr1)\n",
    "strr2 = ''.join(strr1)\n",
    "print(strr2)"
   ]
  },
  {
   "cell_type": "code",
   "execution_count": 8,
   "id": "1951ccb2",
   "metadata": {},
   "outputs": [
    {
     "name": "stdout",
     "output_type": "stream",
     "text": [
      "['h', 'e', 'o']\n",
      "heo\n"
     ]
    }
   ],
   "source": [
    "strrr = [i for i in strr if i != 'l']\n",
    "print(strrr)\n",
    "print(''.join(strrr))"
   ]
  }
 ],
 "metadata": {
  "kernelspec": {
   "display_name": "virenv",
   "language": "python",
   "name": "python3"
  },
  "language_info": {
   "codemirror_mode": {
    "name": "ipython",
    "version": 3
   },
   "file_extension": ".py",
   "mimetype": "text/x-python",
   "name": "python",
   "nbconvert_exporter": "python",
   "pygments_lexer": "ipython3",
   "version": "3.10.1"
  }
 },
 "nbformat": 4,
 "nbformat_minor": 5
}
