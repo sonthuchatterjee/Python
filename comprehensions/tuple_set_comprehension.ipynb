{
 "cells": [
  {
   "cell_type": "code",
   "execution_count": 11,
   "id": "fb1ac4dd",
   "metadata": {},
   "outputs": [
    {
     "name": "stdout",
     "output_type": "stream",
     "text": [
      "(75, 90, 45, 88, 60)\n",
      "(75, 45, 60)\n",
      "('C', 'B', 'D', 'B', 'D')\n",
      "['C', 'B', 'D', 'B', 'D']\n"
     ]
    },
    {
     "data": {
      "text/plain": [
       "'B'"
      ]
     },
     "execution_count": 11,
     "metadata": {},
     "output_type": "execute_result"
    }
   ],
   "source": [
    "scores = tuple([75, 90, 45, 88, 60])\n",
    "print(scores)\n",
    "# if clause\n",
    "scores1 = tuple(i for i  in scores if i < 80)\n",
    "print(scores1)\n",
    "#if else clause\n",
    "scores2 = tuple('A' if i > 90 else 'B' if i > 80 else 'C' if i > 70 else 'D' for i in scores)\n",
    "print(scores2)\n",
    "\n",
    "liss=[]\n",
    "for i in scores:\n",
    "    if i > 90:\n",
    "        liss.append('A')\n",
    "    elif i > 80:\n",
    "        liss.append('B')\n",
    "    elif i > 70:\n",
    "        liss.append('C')\n",
    "    else:\n",
    "        liss.append('D')\n",
    "\n",
    "print(liss)\n",
    "liss[1]"
   ]
  },
  {
   "cell_type": "code",
   "execution_count": 14,
   "id": "7686f100",
   "metadata": {},
   "outputs": [
    {
     "name": "stdout",
     "output_type": "stream",
     "text": [
      "{3, 4, 5, 6, 7}\n",
      "{3, 4, 5, 6}\n",
      "{'C', 'B', 'D', 'A'}\n"
     ]
    }
   ],
   "source": [
    "#Set comprehension\n",
    "scoress={3,4,5,6,6,7}\n",
    "print(scoress)\n",
    "scoress1 = {i for i in scoress if i < 7}\n",
    "print(scoress1)\n",
    "scoress2 = {'A' if i > 5 else 'B' if i > 4 else 'C' if i > 3 else 'D' for i in scoress}\n",
    "print(scoress2)"
   ]
  },
  {
   "cell_type": "code",
   "execution_count": null,
   "id": "1620c55e",
   "metadata": {},
   "outputs": [
    {
     "ename": "TypeError",
     "evalue": "unhashable type: 'dict'",
     "output_type": "error",
     "traceback": [
      "\u001b[1;31m---------------------------------------------------------------------------\u001b[0m",
      "\u001b[1;31mTypeError\u001b[0m                                 Traceback (most recent call last)",
      "Cell \u001b[1;32mIn[20], line 1\u001b[0m\n\u001b[1;32m----> 1\u001b[0m data \u001b[38;5;241m=\u001b[39m {\u001b[38;5;241m3\u001b[39m,\u001b[38;5;124m'\u001b[39m\u001b[38;5;124mA\u001b[39m\u001b[38;5;124m'\u001b[39m,\u001b[38;5;28;01mTrue\u001b[39;00m,{\u001b[38;5;124m'\u001b[39m\u001b[38;5;124ma\u001b[39m\u001b[38;5;124m'\u001b[39m:\u001b[38;5;241m1\u001b[39m,\u001b[38;5;124m'\u001b[39m\u001b[38;5;124mb\u001b[39m\u001b[38;5;124m'\u001b[39m:\u001b[38;5;241m2\u001b[39m}}\n\u001b[0;32m      2\u001b[0m \u001b[38;5;28mprint\u001b[39m(data)\n\u001b[0;32m      4\u001b[0m scoress2\u001b[38;5;241m.\u001b[39madd(\u001b[38;5;241m4\u001b[39m)\n",
      "\u001b[1;31mTypeError\u001b[0m: unhashable type: 'dict'"
     ]
    }
   ],
   "source": [
    "data = {3,'A',True,{'a':1,'b':2}}\n",
    "print(data)"
   ]
  },
  {
   "cell_type": "code",
   "execution_count": 21,
   "id": "10461c75",
   "metadata": {},
   "outputs": [
    {
     "name": "stdout",
     "output_type": "stream",
     "text": [
      "{'C', 4, 'A', 'D', 'B'}\n"
     ]
    }
   ],
   "source": [
    "scoress2.add(4)\n",
    "print(scoress2)"
   ]
  },
  {
   "cell_type": "code",
   "execution_count": 24,
   "id": "c11588c2",
   "metadata": {},
   "outputs": [
    {
     "ename": "AttributeError",
     "evalue": "'frozenset' object has no attribute 'add'",
     "output_type": "error",
     "traceback": [
      "\u001b[1;31m---------------------------------------------------------------------------\u001b[0m",
      "\u001b[1;31mAttributeError\u001b[0m                            Traceback (most recent call last)",
      "Cell \u001b[1;32mIn[24], line 2\u001b[0m\n\u001b[0;32m      1\u001b[0m acoress2\u001b[38;5;241m=\u001b[39m\u001b[38;5;28mfrozenset\u001b[39m(scoress2)\n\u001b[1;32m----> 2\u001b[0m \u001b[43macoress2\u001b[49m\u001b[38;5;241;43m.\u001b[39;49m\u001b[43madd\u001b[49m(\u001b[38;5;241m5\u001b[39m)\n",
      "\u001b[1;31mAttributeError\u001b[0m: 'frozenset' object has no attribute 'add'"
     ]
    }
   ],
   "source": [
    "acoress2=frozenset(scoress2)\n",
    "acoress2.add(5)"
   ]
  }
 ],
 "metadata": {
  "kernelspec": {
   "display_name": "virenv",
   "language": "python",
   "name": "python3"
  },
  "language_info": {
   "codemirror_mode": {
    "name": "ipython",
    "version": 3
   },
   "file_extension": ".py",
   "mimetype": "text/x-python",
   "name": "python",
   "nbconvert_exporter": "python",
   "pygments_lexer": "ipython3",
   "version": "3.10.1"
  }
 },
 "nbformat": 4,
 "nbformat_minor": 5
}
