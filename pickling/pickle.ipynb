{
 "cells": [
  {
   "cell_type": "code",
   "execution_count": 5,
   "id": "caf6b383",
   "metadata": {},
   "outputs": [
    {
     "name": "stdout",
     "output_type": "stream",
     "text": [
      "[1, 2, 3, 4, 5] <class 'list'>\n"
     ]
    }
   ],
   "source": [
    "import pickle\n",
    "\n",
    "x=[1,2,3,4,5]\n",
    "\n",
    "with open(\"listpickle.pkl\",'wb') as f:\n",
    "    pickle.dump(x,f)\n",
    "\n",
    "with open(\"listpickle.pkl\",'rb') as f:\n",
    "    readd=pickle.load(f)\n",
    "print(readd,type(readd))"
   ]
  },
  {
   "cell_type": "code",
   "execution_count": 7,
   "id": "7dbd52c9",
   "metadata": {},
   "outputs": [
    {
     "name": "stdout",
     "output_type": "stream",
     "text": [
      "{'a': 1, 'b': 3} <class 'dict'>\n"
     ]
    }
   ],
   "source": [
    "import pickle\n",
    "\n",
    "x={'a':1,\"b\":3}\n",
    "\n",
    "with open(\"dictpickle.pkl\",'wb') as f:\n",
    "    pickle.dump(x,f)\n",
    "\n",
    "with open(\"dictpickle.pkl\",'rb') as f:\n",
    "    readd=pickle.load(f)\n",
    "print(readd,type(readd))"
   ]
  },
  {
   "cell_type": "code",
   "execution_count": 14,
   "id": "881ce7bf",
   "metadata": {},
   "outputs": [
    {
     "name": "stdout",
     "output_type": "stream",
     "text": [
      "100000\n",
      "100000 <class 'pandas.core.frame.DataFrame'>\n"
     ]
    }
   ],
   "source": [
    "import pandas as pd\n",
    "import numpy as np\n",
    "\n",
    "np.random.seed(123)\n",
    "\n",
    "datadf = {'column1':np.random.randint(0,10,size=100000),\n",
    "          'column2':np.random.rand(100000),\n",
    "          'column3':np.random.choice(['A','B','C'],size=100000)}\n",
    "\n",
    "df=pd.DataFrame(datadf)\n",
    "print(len(df))\n",
    "\n",
    "\n",
    "df.to_pickle('dfpickle.pkl')\n",
    "\n",
    "df1=pd.read_pickle('dfpickle.pkl')\n",
    "print(len(df1),type(df1))"
   ]
  },
  {
   "cell_type": "code",
   "execution_count": null,
   "id": "9118db89",
   "metadata": {},
   "outputs": [
    {
     "name": "stdout",
     "output_type": "stream",
     "text": [
      "the time taken to create normal dict pickle: 0.0034515857696533203\n",
      "the time taken to create  dict pickle with highest protocol: 0.0019943714141845703\n",
      "the time taken to create dict pickle with _pickle: 0.0029931068420410156\n"
     ]
    }
   ],
   "source": [
    "import pickle\n",
    "import time\n",
    "import numpy as np\n",
    "import _pickle as pick\n",
    "\n",
    "dictdata = {'column1':np.random.randint(0,10,size=100000),\n",
    "          'column2':np.random.rand(100000),\n",
    "          'column3':np.random.choice(['A','B','C'],size=100000)}\n",
    "\n",
    "start = time.time()\n",
    "with open(\"dictdatapickle.pkl\",'wb') as f:\n",
    "    pickle.dump(dictdata,f)\n",
    "end = time.time()\n",
    "\n",
    "print(f\"the time taken to create normal dict pickle: {end-start}\")\n",
    "\n",
    "start1 = time.time()\n",
    "with open(\"dictdatapickle.pkl\",'wb') as f:\n",
    "    pickle.dump(dictdata,f,protocol=pickle.HIGHEST_PROTOCOL)\n",
    "end1 = time.time()\n",
    "\n",
    "print(f\"the time taken to create  dict pickle with highest protocol: {end1-start1}\")\n",
    "\n",
    "start2 = time.time()\n",
    "with open(\"dictdatapickle.pkl\",'wb') as f:\n",
    "    pick.dump(dictdata,f,)\n",
    "end2 = time.time()\n",
    "\n",
    "print(f\"the time taken to create dict pickle with _pickle: {end2-start2}\")\n"
   ]
  }
 ],
 "metadata": {
  "kernelspec": {
   "display_name": "virenv",
   "language": "python",
   "name": "python3"
  },
  "language_info": {
   "codemirror_mode": {
    "name": "ipython",
    "version": 3
   },
   "file_extension": ".py",
   "mimetype": "text/x-python",
   "name": "python",
   "nbconvert_exporter": "python",
   "pygments_lexer": "ipython3",
   "version": "3.10.1"
  }
 },
 "nbformat": 4,
 "nbformat_minor": 5
}
