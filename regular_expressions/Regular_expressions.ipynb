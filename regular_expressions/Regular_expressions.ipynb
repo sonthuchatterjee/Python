{
 "cells": [
  {
   "cell_type": "code",
   "execution_count": 1,
   "id": "5c973673",
   "metadata": {},
   "outputs": [
    {
     "name": "stdout",
     "output_type": "stream",
     "text": [
      "<re.Match object; span=(0, 1), match='r'>\n",
      "None\n",
      "<re.Match object; span=(5, 6), match='t'>\n",
      "None\n",
      " ***** in a different way *****\n",
      "<re.Match object; span=(0, 1), match='r'>\n",
      "None\n",
      "<re.Match object; span=(5, 6), match='t'>\n",
      "None\n",
      " ***** To check with multiple characters *****\n",
      "<re.Match object; span=(0, 2), match='ra'>\n",
      "<re.Match object; span=(4, 6), match='it'>\n",
      "None\n",
      "<re.Match object; span=(3, 6), match='bit'>\n",
      " ***** in between the string\n",
      "<re.Match object; span=(2, 4), match='bb'>\n",
      "<re.Match object; span=(1, 2), match='a'>\n",
      "None\n"
     ]
    }
   ],
   "source": [
    "import re\n",
    "\n",
    "\n",
    "x= \"rabbit\"\n",
    "print(re.search('^r',x))\n",
    "print(re.search('^s',x))\n",
    "print(re.search('t$',x))\n",
    "print(re.search('T$',x))\n",
    "\n",
    "print(f\" ***** in a different way *****\",end='\\n')\n",
    "\n",
    "print(re.search('\\Ar',x)) # \\A is for start of a string similar to ^\n",
    "print(re.search('\\As',x))\n",
    "print(re.search('t\\Z',x)) # \\Z is for end of the string similar to $\n",
    "print(re.search('T\\Z',x))\n",
    "\n",
    "print(f\" ***** To check with multiple characters *****\",end='\\n')\n",
    "print(re.search('^ra',x))\n",
    "print(re.search('it$',x))\n",
    "print(re.search('sit$',x))\n",
    "print(re.search('bit$',x))\n",
    "\n",
    "# Till now we checked for starting or ending, now  between the string. works for both single and multiple characters\n",
    "print(f\" ***** in between the string\")\n",
    "print(re.search('\\Bbb\\B',x))\n",
    "print(re.search('\\Ba\\B',x))\n",
    "print(re.search('\\Bs\\B',x))"
   ]
  },
  {
   "cell_type": "code",
   "execution_count": 2,
   "id": "83cd0e27",
   "metadata": {},
   "outputs": [
    {
     "name": "stdout",
     "output_type": "stream",
     "text": [
      "<re.Match object; span=(7, 10), match='fox'>\n",
      "<re.Match object; span=(0, 6), match='rabbit'>\n",
      "None\n",
      "None\n",
      " ***** To check in the start and end of sentence *****\n",
      "<re.Match object; span=(0, 1), match='r'>\n",
      "None\n",
      "None\n",
      "None\n",
      " ***** in a different way *****\n",
      "<re.Match object; span=(0, 1), match='r'>\n",
      "None\n",
      "None\n",
      "None\n",
      " ***** To check with multiple characters *****\n",
      "<re.Match object; span=(0, 2), match='ra'>\n",
      "None\n",
      "None\n",
      "None\n",
      " ***** in between the string\n",
      "<re.Match object; span=(2, 4), match='bb'>\n",
      "<re.Match object; span=(1, 2), match='a'>\n",
      "None\n"
     ]
    }
   ],
   "source": [
    "# Checks for in a sentence too\n",
    "#to check for a word in between the sentence\n",
    "x1=\"rabbit fox rabbit fox\"\n",
    "print(re.search(\"\\\\bfox\\\\b\",x1))\n",
    "print(re.search(\"\\\\brabbit\\\\b\",x1))\n",
    "print(re.search(\"\\\\bs\\\\b\",x1))\n",
    "print(re.search(\"\\\\bB\\\\b\",x1))\n",
    "\n",
    "print(f\" ***** To check in the start and end of sentence *****\")\n",
    "print(re.search('^r',x1))\n",
    "print(re.search('^s',x1))\n",
    "print(re.search('t$',x1))\n",
    "print(re.search('T$',x1))\n",
    "\n",
    "print(f\" ***** in a different way *****\",end='\\n')\n",
    "\n",
    "print(re.search('\\Ar',x1)) # \\A is for start of a string similar to ^\n",
    "print(re.search('\\As',x1))\n",
    "print(re.search('t\\Z',x1)) # \\Z is for end of the string similar to $\n",
    "print(re.search('T\\Z',x1))\n",
    "\n",
    "print(f\" ***** To check with multiple characters *****\",end='\\n')\n",
    "print(re.search('^ra',x1))\n",
    "print(re.search('it$',x1))\n",
    "print(re.search('sit$',x1))\n",
    "print(re.search('bit$',x1))\n",
    "\n",
    "# Till now we checked for starting or ending, now  between the string. works for both single and multiple characters\n",
    "print(f\" ***** in between the string\")\n",
    "print(re.search('\\Bbb\\B',x1))\n",
    "print(re.search('\\Ba\\B',x1))\n",
    "print(re.search('\\Bs\\B',x1))"
   ]
  },
  {
   "cell_type": "code",
   "execution_count": 3,
   "id": "299fce21",
   "metadata": {},
   "outputs": [
    {
     "name": "stdout",
     "output_type": "stream",
     "text": [
      "rabbit fox rabbit fox\n",
      "fox\n"
     ]
    },
    {
     "ename": "AttributeError",
     "evalue": "'NoneType' object has no attribute 'group'",
     "output_type": "error",
     "traceback": [
      "\u001b[1;31m---------------------------------------------------------------------------\u001b[0m",
      "\u001b[1;31mAttributeError\u001b[0m                            Traceback (most recent call last)",
      "Cell \u001b[1;32mIn[3], line 3\u001b[0m\n\u001b[0;32m      1\u001b[0m \u001b[38;5;28mprint\u001b[39m(x1)\n\u001b[0;32m      2\u001b[0m \u001b[38;5;28mprint\u001b[39m(re\u001b[38;5;241m.\u001b[39msearch(\u001b[38;5;124m'\u001b[39m\u001b[38;5;124mfox$\u001b[39m\u001b[38;5;124m'\u001b[39m,x1)\u001b[38;5;241m.\u001b[39mgroup())\n\u001b[1;32m----> 3\u001b[0m \u001b[38;5;28mprint\u001b[39m(\u001b[43mre\u001b[49m\u001b[38;5;241;43m.\u001b[39;49m\u001b[43msearch\u001b[49m\u001b[43m(\u001b[49m\u001b[38;5;124;43m'\u001b[39;49m\u001b[38;5;124;43mrabbit$\u001b[39;49m\u001b[38;5;124;43m'\u001b[39;49m\u001b[43m,\u001b[49m\u001b[43mx1\u001b[49m\u001b[43m)\u001b[49m\u001b[38;5;241;43m.\u001b[39;49m\u001b[43mgroup\u001b[49m())\n",
      "\u001b[1;31mAttributeError\u001b[0m: 'NoneType' object has no attribute 'group'"
     ]
    }
   ],
   "source": [
    "print(x1)\n",
    "print(re.search('fox$',x1).group())\n",
    "print(re.search('rabbit$',x1).group())"
   ]
  },
  {
   "cell_type": "code",
   "execution_count": 14,
   "id": "12c111c3",
   "metadata": {},
   "outputs": [
    {
     "name": "stdout",
     "output_type": "stream",
     "text": [
      "rabbit fox rabbit fox\n",
      "5\n",
      "N\n",
      "Number : [\n",
      "Number : 5\n",
      "Number : 0\n"
     ]
    },
    {
     "ename": "AttributeError",
     "evalue": "'NoneType' object has no attribute 'group'",
     "output_type": "error",
     "traceback": [
      "\u001b[1;31m---------------------------------------------------------------------------\u001b[0m",
      "\u001b[1;31mAttributeError\u001b[0m                            Traceback (most recent call last)",
      "Cell \u001b[1;32mIn[14], line 7\u001b[0m\n\u001b[0;32m      5\u001b[0m \u001b[38;5;28mprint\u001b[39m(re\u001b[38;5;241m.\u001b[39msearch(\u001b[38;5;124m'\u001b[39m\u001b[38;5;124mNumber : [5]\u001b[39m\u001b[38;5;124m'\u001b[39m,\u001b[38;5;124mr\u001b[39m\u001b[38;5;124m'\u001b[39m\u001b[38;5;124mNumber : 5\u001b[39m\u001b[38;5;124m'\u001b[39m)\u001b[38;5;241m.\u001b[39mgroup())\n\u001b[0;32m      6\u001b[0m \u001b[38;5;28mprint\u001b[39m(re\u001b[38;5;241m.\u001b[39msearch(\u001b[38;5;124m'\u001b[39m\u001b[38;5;124mNumber : [^5]\u001b[39m\u001b[38;5;124m'\u001b[39m,\u001b[38;5;124mr\u001b[39m\u001b[38;5;124m'\u001b[39m\u001b[38;5;124mNumber : 0\u001b[39m\u001b[38;5;124m'\u001b[39m)\u001b[38;5;241m.\u001b[39mgroup())\n\u001b[1;32m----> 7\u001b[0m \u001b[38;5;28mprint\u001b[39m(\u001b[43mre\u001b[49m\u001b[38;5;241;43m.\u001b[39;49m\u001b[43msearch\u001b[49m\u001b[43m(\u001b[49m\u001b[38;5;124;43m'\u001b[39;49m\u001b[38;5;124;43mNumber : [5]\u001b[39;49m\u001b[38;5;124;43m'\u001b[39;49m\u001b[43m,\u001b[49m\u001b[38;5;124;43mr\u001b[39;49m\u001b[38;5;124;43m'\u001b[39;49m\u001b[38;5;124;43mNumber : [5]\u001b[39;49m\u001b[38;5;124;43m'\u001b[39;49m\u001b[43m)\u001b[49m\u001b[38;5;241;43m.\u001b[39;49m\u001b[43mgroup\u001b[49m())\n",
      "\u001b[1;31mAttributeError\u001b[0m: 'NoneType' object has no attribute 'group'"
     ]
    }
   ],
   "source": [
    "print(x1)\n",
    "print(re.search('[0-9]',r'Number : [5]').group())\n",
    "print(re.search('[^5]',r'Number : [0]').group())\n",
    "print(re.search('Number : [^5]',r'Number : [0]').group())\n",
    "print(re.search('Number : [5]',r'Number : 5').group())\n",
    "print(re.search('Number : [^5]',r'Number : 0').group())\n",
    "print(re.search('Number : [5]',r'Number : [5]').group())"
   ]
  }
 ],
 "metadata": {
  "kernelspec": {
   "display_name": "virenv",
   "language": "python",
   "name": "python3"
  },
  "language_info": {
   "codemirror_mode": {
    "name": "ipython",
    "version": 3
   },
   "file_extension": ".py",
   "mimetype": "text/x-python",
   "name": "python",
   "nbconvert_exporter": "python",
   "pygments_lexer": "ipython3",
   "version": "3.10.1"
  }
 },
 "nbformat": 4,
 "nbformat_minor": 5
}
