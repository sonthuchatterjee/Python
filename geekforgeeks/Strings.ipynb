{
 "cells": [
  {
   "cell_type": "code",
   "execution_count": 1,
   "id": "461746bb",
   "metadata": {},
   "outputs": [
    {
     "name": "stdout",
     "output_type": "stream",
     "text": [
      "Requirement already satisfied: yfinance in c:\\users\\sonth\\anaconda3\\lib\\site-packages (0.1.70)\n",
      "Requirement already satisfied: pandas>=0.24.0 in c:\\users\\sonth\\anaconda3\\lib\\site-packages (from yfinance) (1.3.4)\n",
      "Requirement already satisfied: multitasking>=0.0.7 in c:\\users\\sonth\\anaconda3\\lib\\site-packages (from yfinance) (0.0.10)\n",
      "Requirement already satisfied: numpy>=1.15 in c:\\users\\sonth\\anaconda3\\lib\\site-packages (from yfinance) (1.20.3)\n",
      "Requirement already satisfied: requests>=2.26 in c:\\users\\sonth\\anaconda3\\lib\\site-packages (from yfinance) (2.26.0)\n",
      "Requirement already satisfied: lxml>=4.5.1 in c:\\users\\sonth\\anaconda3\\lib\\site-packages (from yfinance) (4.6.3)\n",
      "Requirement already satisfied: pytz>=2017.3 in c:\\users\\sonth\\anaconda3\\lib\\site-packages (from pandas>=0.24.0->yfinance) (2021.3)\n",
      "Requirement already satisfied: python-dateutil>=2.7.3 in c:\\users\\sonth\\anaconda3\\lib\\site-packages (from pandas>=0.24.0->yfinance) (2.8.2)\n",
      "Requirement already satisfied: six>=1.5 in c:\\users\\sonth\\anaconda3\\lib\\site-packages (from python-dateutil>=2.7.3->pandas>=0.24.0->yfinance) (1.16.0)\n",
      "Requirement already satisfied: idna<4,>=2.5 in c:\\users\\sonth\\anaconda3\\lib\\site-packages (from requests>=2.26->yfinance) (3.2)\n",
      "Requirement already satisfied: certifi>=2017.4.17 in c:\\users\\sonth\\anaconda3\\lib\\site-packages (from requests>=2.26->yfinance) (2021.10.8)\n",
      "Requirement already satisfied: charset-normalizer~=2.0.0 in c:\\users\\sonth\\anaconda3\\lib\\site-packages (from requests>=2.26->yfinance) (2.0.4)\n",
      "Requirement already satisfied: urllib3<1.27,>=1.21.1 in c:\\users\\sonth\\anaconda3\\lib\\site-packages (from requests>=2.26->yfinance) (1.26.7)\n",
      "Note: you may need to restart the kernel to use updated packages.\n"
     ]
    }
   ],
   "source": [
    "pip install yfinance"
   ]
  },
  {
   "cell_type": "code",
   "execution_count": 2,
   "id": "b0630d79",
   "metadata": {},
   "outputs": [
    {
     "name": "stdout",
     "output_type": "stream",
     "text": [
      "please enter a input: 2\n"
     ]
    }
   ],
   "source": [
    "a=input('please enter a input: ')"
   ]
  },
  {
   "cell_type": "code",
   "execution_count": 3,
   "id": "cdb3eabe",
   "metadata": {},
   "outputs": [
    {
     "name": "stdout",
     "output_type": "stream",
     "text": [
      "2\n"
     ]
    }
   ],
   "source": [
    "print(a)"
   ]
  },
  {
   "cell_type": "code",
   "execution_count": 15,
   "id": "c0b5a281",
   "metadata": {},
   "outputs": [
    {
     "name": "stdout",
     "output_type": "stream",
     "text": [
      "the numbers are x= 1 and y = 2\n",
      "the addition of the numbers are :12\n",
      "the numbers are x= 1 and y = 2\n",
      "the addition of the numbers are :3\n",
      "the numbers are x= 2 and y = 3\n"
     ]
    }
   ],
   "source": [
    "a='1 2'\n",
    "x,y=a.split()\n",
    "print(f'the numbers are x= {x} and y = {y}')\n",
    "print(f'the addition of the numbers are :{x+y}')\n",
    "\n",
    "x,y=list(map(int,a.split()))\n",
    "print(f'the numbers are x= {x} and y = {y}')\n",
    "print(f'the addition of the numbers are :{x+y}')\n",
    "\n",
    "x,y = [2,3]\n",
    "print(f'the numbers are x= {x} and y = {y}')"
   ]
  },
  {
   "cell_type": "code",
   "execution_count": 37,
   "id": "e93e8deb",
   "metadata": {},
   "outputs": [
    {
     "name": "stdout",
     "output_type": "stream",
     "text": [
      "AB123456ACHDGG\n",
      "ab123456achdgg\n",
      "Ab123456achdgg\n",
      "ab123456achdgg \n",
      " ab123456achdgg\n",
      " ab123456achdgg\n",
      "True\n",
      "True\n",
      "True\n",
      "False\n",
      "True\n",
      "True\n"
     ]
    }
   ],
   "source": [
    "a='ab123456achdgg'\n",
    "print(a.upper())\n",
    "print(a.lower())\n",
    "print(a.capitalize())\n",
    "print(a.ljust(15))\n",
    "print(a.rjust(15))\n",
    "print(a.center(15))\n",
    "print(a.endswith('gg'))\n",
    "print(a.endswith('g'))\n",
    "print(a.endswith('dgg'))\n",
    "print(a.endswith('hd'))\n",
    "print(a.startswith('a'))\n",
    "print(a.startswith('ab123'))"
   ]
  },
  {
   "cell_type": "code",
   "execution_count": 60,
   "id": "e424909d",
   "metadata": {},
   "outputs": [
    {
     "name": "stdout",
     "output_type": "stream",
     "text": [
      "ab123456achdgg hello|hi|16|     hello|10000\n"
     ]
    }
   ],
   "source": [
    "print(a+' {0}|{1}|{2:s}|{0:>10}|{3:b}'.format('hello','hi','16',16))"
   ]
  },
  {
   "cell_type": "code",
   "execution_count": 67,
   "id": "bfa03192",
   "metadata": {},
   "outputs": [
    {
     "name": "stdout",
     "output_type": "stream",
     "text": [
      "|sdsd|\n",
      "|sdsd| \n",
      " |sdsd|\n"
     ]
    }
   ],
   "source": [
    "a=' |sdsd| '\n",
    "print(a.strip())\n",
    "print(a.lstrip())\n",
    "print(a.rstrip())"
   ]
  },
  {
   "cell_type": "code",
   "execution_count": 89,
   "id": "b33d08f0",
   "metadata": {},
   "outputs": [
    {
     "name": "stdout",
     "output_type": "stream",
     "text": [
      "False\n",
      "False\n",
      "False\n",
      "True\n",
      "True\n",
      "False\n",
      "False\n",
      "False\n"
     ]
    }
   ],
   "source": [
    "a='afgfg223!'\n",
    "print(a.isalpha())\n",
    "print(a.isdigit())\n",
    "print(a.isalnum())\n",
    "a='\\n'\n",
    "print(a.isspace())\n",
    "a='34'\n",
    "print(a.isdecimal())\n",
    "a=\"2/3\"\n",
    "print(a.isdigit())\n",
    "print(a.isnumeric())\n",
    "print(a.isdecimal())"
   ]
  },
  {
   "cell_type": "code",
   "execution_count": 94,
   "id": "8892d95a",
   "metadata": {},
   "outputs": [
    {
     "name": "stdout",
     "output_type": "stream",
     "text": [
      "afgfg223!\n",
      "helfg223!\n",
      "1\n"
     ]
    },
    {
     "data": {
      "text/plain": [
       "'ahelfg223!fhelfg223!ghelfg223!fhelfg223!ghelfg223!2helfg223!2helfg223!3helfg223!!'"
      ]
     },
     "execution_count": 94,
     "metadata": {},
     "output_type": "execute_result"
    }
   ],
   "source": [
    "a='afgfg223!'\n",
    "b=a.replace('afg','hel')\n",
    "print(a)\n",
    "print(b)\n",
    "print(b.index('el'))\n",
    "b.join(a)"
   ]
  },
  {
   "cell_type": "code",
   "execution_count": 7,
   "id": "81f88232",
   "metadata": {},
   "outputs": [
    {
     "name": "stdout",
     "output_type": "stream",
     "text": [
      "abcdefghijklmnopqrstuvwxyzABCDEFGHIJKLMNOPQRSTUVWXYZ\n",
      "abcdefghijklmnopqrstuvwxyz\n",
      "ABCDEFGHIJKLMNOPQRSTUVWXYZ\n",
      "0123456789\n",
      "0123456789abcdefABCDEF\n",
      "01234567\n",
      "!\"#$%&'()*+,-./:;<=>?@[\\]^_`{|}~\n",
      " \t\n",
      "\r",
      "\u000b",
      "\f",
      "\n",
      "<class 'string.Template'>\n"
     ]
    }
   ],
   "source": [
    "import string\n",
    "\n",
    "print(string.ascii_letters)\n",
    "print(string.ascii_lowercase)\n",
    "print(string.ascii_uppercase)\n",
    "print(string.digits)\n",
    "print(string.hexdigits)\n",
    "print(string.octdigits)\n",
    "print(string.punctuation)\n",
    "print(string.whitespace)"
   ]
  },
  {
   "cell_type": "code",
   "execution_count": 10,
   "id": "572f9557",
   "metadata": {},
   "outputs": [
    {
     "name": "stdout",
     "output_type": "stream",
     "text": [
      "weekfforweek\n"
     ]
    }
   ],
   "source": [
    "a='geeksforgeek'\n",
    "table=a.maketrans('gs','wf')\n",
    "print(a.translate(table))"
   ]
  }
 ],
 "metadata": {
  "kernelspec": {
   "display_name": "Python 3 (ipykernel)",
   "language": "python",
   "name": "python3"
  },
  "language_info": {
   "codemirror_mode": {
    "name": "ipython",
    "version": 3
   },
   "file_extension": ".py",
   "mimetype": "text/x-python",
   "name": "python",
   "nbconvert_exporter": "python",
   "pygments_lexer": "ipython3",
   "version": "3.9.7"
  }
 },
 "nbformat": 4,
 "nbformat_minor": 5
}
