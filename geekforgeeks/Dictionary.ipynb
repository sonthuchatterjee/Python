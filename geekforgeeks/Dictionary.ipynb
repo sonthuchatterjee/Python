{
 "cells": [
  {
   "cell_type": "code",
   "execution_count": 1,
   "id": "36f3fe96",
   "metadata": {},
   "outputs": [
    {
     "name": "stdout",
     "output_type": "stream",
     "text": [
      "{1: 'Geeks', 2: 'For', 'name': 'Geeks'}\n"
     ]
    }
   ],
   "source": [
    "dic={1: 'Geeks', 2: 'For', 'name': 'Geeks'}\n",
    "print(dic)"
   ]
  },
  {
   "cell_type": "code",
   "execution_count": 5,
   "id": "f67a6347",
   "metadata": {},
   "outputs": [
    {
     "name": "stdout",
     "output_type": "stream",
     "text": [
      "<class 'dict'>\n",
      "<class 'dict'>\n",
      "{1: 'Geeks', 2: 'For'}\n",
      "<class 'dict'>\n"
     ]
    }
   ],
   "source": [
    "dictt={}\n",
    "print(type(dictt))\n",
    "try:\n",
    "    dict1=dict({1: 'Geeks', 2: 'For', 'name': 'Geeks'})\n",
    "    print(type(dict1))\n",
    "except Exception as e:\n",
    "    print(e)\n",
    "dict2=dict([(1,'Geeks'),(2,'For')])\n",
    "print(dict2)\n",
    "print(type(dict2))"
   ]
  },
  {
   "cell_type": "code",
   "execution_count": 17,
   "id": "c23d51dd",
   "metadata": {},
   "outputs": [
    {
     "name": "stdout",
     "output_type": "stream",
     "text": [
      "{1: 'Geeks', 2: {'name': 'sonthu', 'age': 33}}\n",
      "{'name': 'sonthu', 'age': 33}\n",
      "None\n",
      "{1: 'Geeks', 2: {'name': 'sonthu', 'age': 33}}\n",
      "{1: 'Geeks', 2: {'name': 'sonthu', 'age': 33}, 3: 'hehe'}\n"
     ]
    }
   ],
   "source": [
    "print(dict1)\n",
    "print(dict1[2])\n",
    "print(dict1.get('name'))\n",
    "dict1[2]={'name':'sonthu','age':33}\n",
    "print(dict1)\n",
    "dict1.update({3:'hehe'})\n",
    "print(dict1)"
   ]
  },
  {
   "cell_type": "code",
   "execution_count": 18,
   "id": "fdb00383",
   "metadata": {},
   "outputs": [
    {
     "name": "stdout",
     "output_type": "stream",
     "text": [
      "{1: 'Geeks', 2: {'name': 'sonthu', 'age': 33}}\n",
      "{1: 'Geeks'}\n"
     ]
    }
   ],
   "source": [
    "dict1.pop(3)\n",
    "print(dict1)\n",
    "dict1.popitem()\n",
    "print(dict1)"
   ]
  },
  {
   "cell_type": "code",
   "execution_count": 26,
   "id": "ada82581",
   "metadata": {},
   "outputs": [
    {
     "name": "stdout",
     "output_type": "stream",
     "text": [
      "dict_items([(1, 'Geeks'), (2, 'For'), ('name', 'Geeks')])\n",
      "(1, 'Geeks')\n",
      "1 and Geeks\n",
      "(2, 'For')\n",
      "2 and For\n",
      "('name', 'Geeks')\n",
      "name and Geeks\n",
      "dict_keys([1, 2, 'name'])\n",
      "dict_values(['Geeks', 'For', 'Geeks'])\n"
     ]
    }
   ],
   "source": [
    "dict1=dict({1: 'Geeks', 2: 'For', 'name': 'Geeks'})\n",
    "print(dict1.items())\n",
    "for i in dict1.items():\n",
    "    print(i)\n",
    "    print(f'{i[0]} and {i[1]}')\n",
    "print(dict1.keys())\n",
    "print(dict1.values())"
   ]
  },
  {
   "cell_type": "code",
   "execution_count": 27,
   "id": "b37c383f",
   "metadata": {},
   "outputs": [
    {
     "name": "stdout",
     "output_type": "stream",
     "text": [
      "{1: 'Geeks', 2: 'For', 'name': 'Geeks'}\n",
      "{1: 'Reeks', 2: 'For', 'name': 'Geeks'}\n",
      "{1: 'Reeks', 2: 'For', 'name': 'Geeks'}\n",
      "{1: 'Geeks', 2: 'For', 'name': 'Geeks'}\n"
     ]
    }
   ],
   "source": [
    "dict2=dict1\n",
    "print(dict2)\n",
    "dict3=dict1.copy()\n",
    "dict1[1]='Reeks'\n",
    "print(dict1)\n",
    "print(dict2)\n",
    "print(dict3)"
   ]
  }
 ],
 "metadata": {
  "kernelspec": {
   "display_name": "Python 3 (ipykernel)",
   "language": "python",
   "name": "python3"
  },
  "language_info": {
   "codemirror_mode": {
    "name": "ipython",
    "version": 3
   },
   "file_extension": ".py",
   "mimetype": "text/x-python",
   "name": "python",
   "nbconvert_exporter": "python",
   "pygments_lexer": "ipython3",
   "version": "3.9.7"
  }
 },
 "nbformat": 4,
 "nbformat_minor": 5
}
