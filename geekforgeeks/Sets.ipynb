{
 "cells": [
  {
   "cell_type": "code",
   "execution_count": 4,
   "id": "f11fef47",
   "metadata": {},
   "outputs": [
    {
     "name": "stdout",
     "output_type": "stream",
     "text": [
      "0123456789abcdefABCDEF\n",
      "{'7', '8', 'd', 'D', '9', '6', 'A', '0', 'b', '1', '4', 'f', 'c', '5', 'F', 'C', 'e', 'a', 'B', '2', '3', 'E'}\n",
      "('7', '8', 'd', 'D', '9', '6', 'A', '0', 'b', '1', '4', 'f', 'c', '5', 'F', 'C', 'e', 'a', 'B', '2', '3', 'E')\n"
     ]
    }
   ],
   "source": [
    "import string\n",
    "\n",
    "a=string.hexdigits\n",
    "print(a)\n",
    "b=set(a)\n",
    "print(b)\n",
    "c=tuple(b)\n",
    "print(c)"
   ]
  },
  {
   "cell_type": "code",
   "execution_count": 11,
   "id": "29dc7329",
   "metadata": {},
   "outputs": [
    {
     "name": "stdout",
     "output_type": "stream",
     "text": [
      "{'Geek', 'for'}\n",
      "{'Geek', 'for'}\n",
      "{1, 2, 3, 'geek', 'Geek', 'for'}\n"
     ]
    }
   ],
   "source": [
    "a=['Geek','for','Geek']\n",
    "b=set(a)\n",
    "print(b)\n",
    "a={'Geek':1,'for':2,'Geek':3}\n",
    "b=set(a)\n",
    "print(b)\n",
    "a=[1,2,'Geek','for',3,'Geek','geek']\n",
    "b=set(a)\n",
    "print(b)"
   ]
  },
  {
   "cell_type": "code",
   "execution_count": 21,
   "id": "954a8926",
   "metadata": {},
   "outputs": [
    {
     "name": "stdout",
     "output_type": "stream",
     "text": [
      "<class 'set'>\n",
      "{'geek', 2, (2, 3, 'd')}\n",
      "unhashable type: 'list'\n",
      "{'geek', 2, (2, 3, 'd'), 'dfg', 22}\n"
     ]
    }
   ],
   "source": [
    "a=set()\n",
    "print(type(a))\n",
    "a.add(2)\n",
    "a.add('geek')\n",
    "a.add((2,3,'d'))\n",
    "print(a)\n",
    "try:\n",
    "     a.add([1,2])\n",
    "except Exception as e:\n",
    "     print(e)\n",
    "a.update([22,'dfg'])\n",
    "print(a)"
   ]
  },
  {
   "cell_type": "code",
   "execution_count": 22,
   "id": "8cf3105f",
   "metadata": {},
   "outputs": [
    {
     "name": "stdout",
     "output_type": "stream",
     "text": [
      "3\n",
      "{'geek', 2, (2, 3, 'd'), 'dfg', 22}\n",
      "{'geek', 2, (2, 3, 'd'), 'dfg', 22}\n",
      "{'geek', (2, 3, 'd'), 22}\n"
     ]
    }
   ],
   "source": [
    "try:\n",
    "    a.remove(3)\n",
    "except Exception as e:\n",
    "    print(e)\n",
    "print(a)\n",
    "a.discard(3)\n",
    "print(a)\n",
    "a.remove(2)\n",
    "a.discard('dfg')\n",
    "print(a)"
   ]
  },
  {
   "cell_type": "code",
   "execution_count": 23,
   "id": "b55f3797",
   "metadata": {},
   "outputs": [
    {
     "name": "stdout",
     "output_type": "stream",
     "text": [
      "{1, 2, 3, 4, 5, 6}\n"
     ]
    }
   ],
   "source": [
    "set1 = {1, 2, 3} \n",
    "set2 = {4, 5, 6} \n",
    "my_set = set1.union(set2) \n",
    "print(my_set)"
   ]
  },
  {
   "cell_type": "code",
   "execution_count": 24,
   "id": "5ec1716e",
   "metadata": {},
   "outputs": [
    {
     "name": "stdout",
     "output_type": "stream",
     "text": [
      "{4, 5}\n"
     ]
    }
   ],
   "source": [
    "set1 = {1, 2, 3, 4, 5} \n",
    "set2 = {4, 5, 6, 7, 8} \n",
    "my_set = set1.intersection(set2) \n",
    "print(my_set) "
   ]
  },
  {
   "cell_type": "code",
   "execution_count": 25,
   "id": "7b51f047",
   "metadata": {},
   "outputs": [
    {
     "name": "stdout",
     "output_type": "stream",
     "text": [
      "{1, 2, 3}\n"
     ]
    }
   ],
   "source": [
    "set1 = {1, 2, 3, 4, 5} \n",
    "set2 = {4, 5, 6, 7, 8} \n",
    "my_set = set1.difference(set2) \n",
    "print(my_set)"
   ]
  },
  {
   "cell_type": "code",
   "execution_count": 26,
   "id": "87a37f07",
   "metadata": {},
   "outputs": [
    {
     "name": "stdout",
     "output_type": "stream",
     "text": [
      "{1, 2, 3, 6, 7, 8}\n"
     ]
    }
   ],
   "source": [
    "set1 = {1, 2, 3, 4, 5} \n",
    "set2 = {4, 5, 6, 7, 8} \n",
    "my_set = set1.symmetric_difference(set2) \n",
    "print(my_set)"
   ]
  },
  {
   "cell_type": "code",
   "execution_count": 27,
   "id": "df8a0e28",
   "metadata": {},
   "outputs": [
    {
     "name": "stdout",
     "output_type": "stream",
     "text": [
      "True\n"
     ]
    }
   ],
   "source": [
    "set1 = {1, 2, 3, 4, 5} \n",
    "set2 = {2, 3, 4} \n",
    "subset = set2.issubset(set1) \n",
    "print(subset)"
   ]
  },
  {
   "cell_type": "code",
   "execution_count": 28,
   "id": "71334a33",
   "metadata": {},
   "outputs": [
    {
     "name": "stdout",
     "output_type": "stream",
     "text": [
      "True\n"
     ]
    }
   ],
   "source": [
    "set1 = {1, 2, 3, 4, 5} \n",
    "set2 = {2, 3, 4} \n",
    "superset = set1.issuperset(set2) \n",
    "print(superset) "
   ]
  }
 ],
 "metadata": {
  "kernelspec": {
   "display_name": "Python 3 (ipykernel)",
   "language": "python",
   "name": "python3"
  },
  "language_info": {
   "codemirror_mode": {
    "name": "ipython",
    "version": 3
   },
   "file_extension": ".py",
   "mimetype": "text/x-python",
   "name": "python",
   "nbconvert_exporter": "python",
   "pygments_lexer": "ipython3",
   "version": "3.9.7"
  }
 },
 "nbformat": 4,
 "nbformat_minor": 5
}
