{
 "cells": [
  {
   "cell_type": "code",
   "execution_count": 7,
   "id": "c4341508",
   "metadata": {},
   "outputs": [
    {
     "name": "stdout",
     "output_type": "stream",
     "text": [
      "['0', '1', '2', '3', '4', '5', '6', '7', '8', '9', 'a', 'b', 'c', 'd', 'e', 'f', 'A', 'B', 'C', 'D', 'E', 'F']\n"
     ]
    },
    {
     "data": {
      "text/plain": [
       "22"
      ]
     },
     "execution_count": 7,
     "metadata": {},
     "output_type": "execute_result"
    }
   ],
   "source": [
    "import string\n",
    "\n",
    "a=list(string.hexdigits)\n",
    "print(a)\n",
    "len(a)"
   ]
  },
  {
   "cell_type": "code",
   "execution_count": 20,
   "id": "267816b0",
   "metadata": {},
   "outputs": [
    {
     "name": "stdout",
     "output_type": "stream",
     "text": [
      "1 2 3\n",
      "['0', '1', '2', '3', '4', '5', '6', '7', '8', '9', 'a', 'b', 'c', 'd', 'e', 'f', 'A', 'B', 'C', 'D', 'E', 'F']\n",
      "['0', '1', '2', '3', '4', '5', '6', '7', '8', '9', 'a', 'b', 'c', 'd', 'e', 'f', 'A', 'B', 'C', 'D', 'E', 'F', 34]\n",
      "['0', '1', '2', '3', '4', '5', '6', '7', '8', '9', 'a', 'b', 'c', 'd', 'e', 'f', 'A', 'B', 'C', 'D', 'E', 'F', 34, 's', 3, 'fg']\n",
      "'int' object is not iterable\n"
     ]
    }
   ],
   "source": [
    "import string\n",
    "a,b,c=[1,2,3]\n",
    "print(a,b,c)\n",
    "a=list(string.hexdigits)\n",
    "print(a)\n",
    "a.append(34)\n",
    "print(a)\n",
    "a.extend(['s',3,'fg'])\n",
    "print(a)\n",
    "try: \n",
    "    a.extend(4)\n",
    "except Exception as e:\n",
    "    print(e)"
   ]
  },
  {
   "cell_type": "code",
   "execution_count": 21,
   "id": "336071ed",
   "metadata": {},
   "outputs": [
    {
     "name": "stdout",
     "output_type": "stream",
     "text": [
      "['0', 'dfdfdf', '1', '2', '3', '4', '5', '6', '7', '8', '9', 'a', 'b', 'c', 'd', 'e', 'f', 'A', 'B', 'C', 'D', 'E', 'F', 34, 's', 3, 'fg']\n"
     ]
    }
   ],
   "source": [
    "a.insert(1,'dfdfdf')\n",
    "print(a)"
   ]
  },
  {
   "cell_type": "code",
   "execution_count": 23,
   "id": "5f75950a",
   "metadata": {},
   "outputs": [
    {
     "ename": "ValueError",
     "evalue": "list.remove(x): x not in list",
     "output_type": "error",
     "traceback": [
      "\u001b[1;31m---------------------------------------------------------------------------\u001b[0m",
      "\u001b[1;31mValueError\u001b[0m                                Traceback (most recent call last)",
      "\u001b[1;32m~\\AppData\\Local\\Temp/ipykernel_3200/3019751485.py\u001b[0m in \u001b[0;36m<module>\u001b[1;34m\u001b[0m\n\u001b[1;32m----> 1\u001b[1;33m \u001b[0ma\u001b[0m\u001b[1;33m.\u001b[0m\u001b[0mremove\u001b[0m\u001b[1;33m(\u001b[0m\u001b[1;36m34\u001b[0m\u001b[1;33m)\u001b[0m\u001b[1;33m\u001b[0m\u001b[1;33m\u001b[0m\u001b[0m\n\u001b[0m\u001b[0;32m      2\u001b[0m \u001b[0mprint\u001b[0m\u001b[1;33m(\u001b[0m\u001b[0ma\u001b[0m\u001b[1;33m)\u001b[0m\u001b[1;33m\u001b[0m\u001b[1;33m\u001b[0m\u001b[0m\n\u001b[0;32m      3\u001b[0m \u001b[0ma\u001b[0m\u001b[1;33m.\u001b[0m\u001b[0mpop\u001b[0m\u001b[1;33m(\u001b[0m\u001b[1;36m2\u001b[0m\u001b[1;33m)\u001b[0m\u001b[1;33m\u001b[0m\u001b[1;33m\u001b[0m\u001b[0m\n\u001b[0;32m      4\u001b[0m \u001b[0mprint\u001b[0m\u001b[1;33m(\u001b[0m\u001b[0ma\u001b[0m\u001b[1;33m)\u001b[0m\u001b[1;33m\u001b[0m\u001b[1;33m\u001b[0m\u001b[0m\n\u001b[0;32m      5\u001b[0m \u001b[0mprint\u001b[0m\u001b[1;33m(\u001b[0m\u001b[1;34m''\u001b[0m\u001b[1;33m.\u001b[0m\u001b[0mjoin\u001b[0m\u001b[1;33m(\u001b[0m\u001b[0ma\u001b[0m\u001b[1;33m)\u001b[0m\u001b[1;33m)\u001b[0m\u001b[1;33m\u001b[0m\u001b[1;33m\u001b[0m\u001b[0m\n",
      "\u001b[1;31mValueError\u001b[0m: list.remove(x): x not in list"
     ]
    }
   ],
   "source": [
    "a.remove(34)\n",
    "print(a)\n",
    "a.pop(2)\n",
    "print(a)"
   ]
  },
  {
   "cell_type": "code",
   "execution_count": 31,
   "id": "61016b48",
   "metadata": {},
   "outputs": [
    {
     "name": "stdout",
     "output_type": "stream",
     "text": [
      "['0', '1', '2', '3', '4', '5', '6', '7', '8', '9', 'a', 'b', 'c', 'd', 'e', 'f', 'A', 'B', 'C', 'D', 'E', 'F']\n",
      "0123456789abcdefABCDEF\n"
     ]
    }
   ],
   "source": [
    "import string\n",
    "\n",
    "a=list(string.hexdigits)\n",
    "print(a)\n",
    "print(''.join(a))"
   ]
  },
  {
   "cell_type": "code",
   "execution_count": 34,
   "id": "347b2aec",
   "metadata": {},
   "outputs": [
    {
     "name": "stdout",
     "output_type": "stream",
     "text": [
      "'list' object has no attribute 'join'\n"
     ]
    }
   ],
   "source": [
    "a=['ddff']\n",
    "b=['hkhkh']\n",
    "try: \n",
    "    b.join(a)\n",
    "except Exception as e:\n",
    "    print(e)"
   ]
  },
  {
   "cell_type": "code",
   "execution_count": 37,
   "id": "1826bac0",
   "metadata": {},
   "outputs": [
    {
     "name": "stdout",
     "output_type": "stream",
     "text": [
      "['0', '1', '2', '3', '4', '5', '6', '7', '8', '9', 'a', 'b', 'c', 'd', 'e', 'f', 'A', 'B', 'C', 'D', 'E', 'F']\n",
      "0123456789abcdefABCDEF\n",
      "['F', 'E', 'D', 'C', 'B', 'A', 'f', 'e', 'd', 'c', 'b', 'a', '9', '8', '7', '6', '5', '4', '3', '2', '1', '0']\n",
      "FEDCBAfedcba9876543210\n"
     ]
    }
   ],
   "source": [
    "import string\n",
    "\n",
    "a=list(string.hexdigits)\n",
    "print(a)\n",
    "print(''.join(a))\n",
    "a.reverse()\n",
    "print(a)\n",
    "print(''.join(a))"
   ]
  },
  {
   "cell_type": "code",
   "execution_count": 6,
   "id": "86082cb8",
   "metadata": {},
   "outputs": [
    {
     "name": "stdout",
     "output_type": "stream",
     "text": [
      "11\n",
      "17\n",
      "['0', '1', '2', '3', '4', '5', '6', '7', '8', '9']\n",
      "['9', '8', '7', '6', '5', '4', '3', '2', '1', '0']\n",
      "['z', 'y', 'x', 'w', 'v', 'u', 't', 's', 'r', 'q', 'p', 'o', 'n', 'm', 'l', 'k', 'j', 'i', 'h', 'g', 'f', 'e', 'd', 'c', 'b', 'a']\n",
      "['f', 'e', 'd', 'c', 'b', 'a', 'F', 'E', 'D', 'C', 'B', 'A', '9', '8', '7', '6', '5', '4', '3', '2', '1', '0']\n"
     ]
    }
   ],
   "source": [
    "import string\n",
    "\n",
    "a=list(string.hexdigits)\n",
    "print(a.index('b'))\n",
    "print(a.index('B'))\n",
    "a.count('a')\n",
    "a=list(string.digits)\n",
    "b=list(string.ascii_lowercase)\n",
    "c=list(string.hexdigits)\n",
    "print(a)\n",
    "a.sort(reverse=True)\n",
    "print(a)\n",
    "b.sort(reverse=True)\n",
    "print(b)\n",
    "c.sort(reverse=True)\n",
    "print(c)"
   ]
  },
  {
   "cell_type": "code",
   "execution_count": 23,
   "id": "a8249e43",
   "metadata": {},
   "outputs": [
    {
     "name": "stdout",
     "output_type": "stream",
     "text": [
      "['0', '1', '2', '3', '4', '5', '6', '7', '8', '9', 'a', 'b', 'c', 'd', 'e', 'f', 'A', 'B', 'C', 'D', 'E', 'F']\n",
      "['0', '1']\n",
      "[]\n",
      "['2', '4', '6', '8', 'a', 'c', 'e', 'A', 'C', 'E']\n",
      "['2']\n",
      "[]\n",
      "[]\n",
      "['C', 'D']\n",
      "['F', 'E', 'D', 'C', 'B', 'A', 'f', 'e', 'd', 'c', 'b', 'a', '9', '8', '7', '6', '5', '4', '3', '2', '1', '0']\n",
      "['F', 'D', 'B', 'f', 'd', 'b', '9', '7', '5', '3', '1']\n"
     ]
    }
   ],
   "source": [
    "import string\n",
    "\n",
    "a=list(string.hexdigits)\n",
    "print(a)\n",
    "print(a[:2])\n",
    "print(a[4:2])\n",
    "print(a[2::2])\n",
    "print(a[2:1:-1])\n",
    "print(a[2:4:-1])\n",
    "print(a[-1:-2])\n",
    "print(a[-4:-2])\n",
    "print(a[::-1])\n",
    "print(a[::-2])"
   ]
  },
  {
   "cell_type": "code",
   "execution_count": 25,
   "id": "2472a766",
   "metadata": {},
   "outputs": [
    {
     "name": "stdout",
     "output_type": "stream",
     "text": [
      "['0', '1', '2', '3', '4', '5', '6', '7', '8', '9', 'a', 'b', 'c', 'd', 'e', 'f', 'A', 'B', 'C', 'D', 'E', 'F']\n",
      "['f', 'e', 'd', 'c', 'b', 'a', 'F', 'E', 'D', 'C', 'B', 'A', '9', '8', '7', '6', '5', '4', '3', '2', '1', '0']\n",
      "['f', 'e', 'd', 'c', 'b', 'a', 'F', 'E', 'D', 'C', 'B', 'A', '9', '8', '7', '6', '5', '4', '3', '2', '1', '0']\n"
     ]
    }
   ],
   "source": [
    "import string\n",
    "\n",
    "a=list(string.hexdigits)\n",
    "b=a\n",
    "print(a)\n",
    "b.sort(reverse=True)\n",
    "print(b)\n",
    "print(a)"
   ]
  },
  {
   "cell_type": "code",
   "execution_count": 26,
   "id": "21a3d264",
   "metadata": {},
   "outputs": [
    {
     "name": "stdout",
     "output_type": "stream",
     "text": [
      "['0', '1', '2', '3', '4', '5', '6', '7', '8', '9', 'a', 'b', 'c', 'd', 'e', 'f', 'A', 'B', 'C', 'D', 'E', 'F']\n",
      "['f', 'e', 'd', 'c', 'b', 'a', 'F', 'E', 'D', 'C', 'B', 'A', '9', '8', '7', '6', '5', '4', '3', '2', '1', '0']\n",
      "['0', '1', '2', '3', '4', '5', '6', '7', '8', '9', 'a', 'b', 'c', 'd', 'e', 'f', 'A', 'B', 'C', 'D', 'E', 'F']\n"
     ]
    }
   ],
   "source": [
    "import string\n",
    "\n",
    "a=list(string.hexdigits)\n",
    "b=a.copy()\n",
    "print(a)\n",
    "b.sort(reverse=True)\n",
    "print(b)\n",
    "print(a)"
   ]
  },
  {
   "cell_type": "code",
   "execution_count": 27,
   "id": "8c41b250",
   "metadata": {},
   "outputs": [
    {
     "name": "stdout",
     "output_type": "stream",
     "text": [
      "['0', '1', '2', '3', '4', '5', '6', '7', '8', '9', 'a', 'b', 'c', 'd', 'e', 'f', 'A', 'B', 'C', 'D', 'E', 'F']\n"
     ]
    }
   ],
   "source": [
    "import string\n",
    "\n",
    "a=list(string.hexdigits)\n",
    "print(a)"
   ]
  },
  {
   "cell_type": "code",
   "execution_count": 35,
   "id": "399611c7",
   "metadata": {},
   "outputs": [
    {
     "name": "stdout",
     "output_type": "stream",
     "text": [
      "<class 'tuple'>\n",
      "(1, 2)\n",
      "(1, 2, 'fpr', 'geek', 'fpr', 'geeks')\n",
      "<class 'tuple'>\n",
      "2\n"
     ]
    }
   ],
   "source": [
    "a=1,2\n",
    "print(type(a))\n",
    "print(a)\n",
    "a=(1,2) + ('fpr','geek')+('fpr','geeks')\n",
    "print(a)\n",
    "print(type(a))\n",
    "print(a.count('fpr'))\n"
   ]
  },
  {
   "cell_type": "code",
   "execution_count": 38,
   "id": "42aace79",
   "metadata": {},
   "outputs": [
    {
     "name": "stdout",
     "output_type": "stream",
     "text": [
      "('0', '1', '2', '3', '4', '5', '6', '7', '8', '9', 'a', 'b', 'c', 'd', 'e', 'f', 'A', 'B', 'C', 'D', 'E', 'F', 22, 33)\n",
      "12\n"
     ]
    }
   ],
   "source": [
    "import string\n",
    "\n",
    "a=list(string.hexdigits)\n",
    "b=tuple(a) + (22,33)\n",
    "print(b)\n",
    "print(b.index('c'))"
   ]
  },
  {
   "cell_type": "code",
   "execution_count": 66,
   "id": "fae646d0",
   "metadata": {},
   "outputs": [
    {
     "name": "stdout",
     "output_type": "stream",
     "text": [
      "('0', '1', '2', '3', '4', '5', '6', '7', '8', '9', 'a', 'b', 'c', 'd', 'e', 'f', 'A', 'B', 'C', 'D', 'E', 'F')\n",
      "2\n",
      "('F', 'E', 'D', 'C', 'B', 'A', 'f', 'e', 'd', 'c', 'b', 'a', '9', '8', '7', '6', '5', '4', '3', '2', '1', '0')\n",
      "0\n",
      "1\n",
      "2\n",
      "3\n",
      "4\n",
      "5\n",
      "6\n",
      "7\n",
      "8\n",
      "9\n",
      "a\n",
      "b\n",
      "c\n",
      "d\n",
      "e\n",
      "f\n",
      "A\n",
      "B\n",
      "C\n",
      "D\n",
      "E\n",
      "F\n"
     ]
    }
   ],
   "source": [
    "import string\n",
    "\n",
    "a=tuple(string.hexdigits)\n",
    "print(a)\n",
    "print(a[2])\n",
    "print(a[::-1])\n",
    "for i in a:\n",
    "    print(i)"
   ]
  },
  {
   "cell_type": "code",
   "execution_count": 62,
   "id": "7c6dfa3e",
   "metadata": {},
   "outputs": [
    {
     "name": "stdout",
     "output_type": "stream",
     "text": [
      "<enumerate object at 0x0000021612070D40>\n",
      "<enumerate object at 0x00000216120FCDC0>\n",
      "[(0, 'eat'), (1, 'sleep'), (2, 'repeat')]\n",
      "[(0, 'g'), (1, 'e'), (2, 'e'), (3, 'k')]\n",
      "<enumerate object at 0x00000216121224C0>\n",
      "<class 'enumerate'>\n",
      "<enumerate object at 0x00000216121224C0>\n",
      "[(100, 'g'), (101, 'e'), (102, 'e'), (103, 'k')]\n",
      "[(103, 'k'), (102, 'e'), (101, 'e'), (100, 'g')]\n",
      "(103, 'k')\n"
     ]
    }
   ],
   "source": [
    "l1 = [\"eat\", \"sleep\", \"repeat\"]\n",
    "s1 = \"geek\"\n",
    " \n",
    "# creating enumerate objects\n",
    "obj1 = enumerate(l1)\n",
    "obj2 = enumerate(s1)\n",
    "print(obj1)\n",
    "print(obj2)\n",
    "print(list(obj1))\n",
    "print(list(obj2))\n",
    "obj3=enumerate(s1,100)\n",
    "#print(max(obj3))\n",
    "print(obj3)\n",
    "print(type(obj3))\n",
    "print(obj3)\n",
    "obj4=list(obj3)\n",
    "print(obj4)\n",
    "obj4.sort(reverse=True)\n",
    "print(obj4)\n",
    "print(max(obj4))"
   ]
  },
  {
   "cell_type": "code",
   "execution_count": 65,
   "id": "8cd6c3cb",
   "metadata": {},
   "outputs": [
    {
     "name": "stdout",
     "output_type": "stream",
     "text": [
      "x is 0 and y is g\n",
      "x is 1 and y is e\n",
      "x is 2 and y is e\n",
      "x is 3 and y is k\n"
     ]
    }
   ],
   "source": [
    "l1 = [\"eat\", \"sleep\", \"repeat\"]\n",
    "s1 = \"geek\"\n",
    " \n",
    "# creating enumerate objects\n",
    "obj1 = enumerate(l1)\n",
    "obj2 = enumerate(s1)\n",
    "for i in obj2:\n",
    "    x,y=i\n",
    "    print(f'x is {x} and y is {y}')"
   ]
  },
  {
   "cell_type": "code",
   "execution_count": 70,
   "id": "012f922d",
   "metadata": {},
   "outputs": [
    {
     "name": "stdout",
     "output_type": "stream",
     "text": [
      "[1, 2, 3, 7]\n",
      "7\n"
     ]
    }
   ],
   "source": [
    "a=[1,3,7,2]\n",
    "b=tuple(a)\n",
    "print(sorted(b))\n",
    "print(b[2])"
   ]
  },
  {
   "cell_type": "code",
   "execution_count": 80,
   "id": "988f6c1a",
   "metadata": {},
   "outputs": [
    {
     "name": "stdout",
     "output_type": "stream",
     "text": [
      "(0, 'b')\n",
      "(1, 'c')\n",
      "(2, 'a')\n",
      "(3, 'q')\n",
      "['a', 'b', 'c', 'q']\n",
      "['q', 'c', 'b', 'a']\n"
     ]
    }
   ],
   "source": [
    "a=('b','c','a','q')\n",
    "for i in enumerate(a):\n",
    "    print(i)\n",
    "b=list(a)\n",
    "b.sort()\n",
    "print(b)\n",
    "b.sort(reverse=True)\n",
    "print(b)"
   ]
  },
  {
   "cell_type": "code",
   "execution_count": 7,
   "id": "54253f4b",
   "metadata": {},
   "outputs": [
    {
     "name": "stdout",
     "output_type": "stream",
     "text": [
      "[(0, 'b'), (1, 'c'), (2, 'a'), (3, 'q')]\n",
      "['a', 'b', 'c', 'q']\n",
      "[(3, 'q'), (2, 'a'), (1, 'c'), (0, 'b')]\n",
      "[(3, 'q'), (2, 'a'), (1, 'c'), (0, 'b')]\n"
     ]
    }
   ],
   "source": [
    "a=('b','c','a','q')\n",
    "b=list(enumerate(a))\n",
    "c=list(a)\n",
    "print(b)\n",
    "c.sort()\n",
    "print(c)\n",
    "b.sort(reverse=True)\n",
    "print(b)\n",
    "a=('b','c','a','q')\n",
    "b=list(enumerate(a))\n",
    "def indexx(x):\n",
    "    return x[0]\n",
    "b.sort(key=indexx,reverse=True)\n",
    "print(b)\n",
    "    "
   ]
  }
 ],
 "metadata": {
  "kernelspec": {
   "display_name": "Python 3 (ipykernel)",
   "language": "python",
   "name": "python3"
  },
  "language_info": {
   "codemirror_mode": {
    "name": "ipython",
    "version": 3
   },
   "file_extension": ".py",
   "mimetype": "text/x-python",
   "name": "python",
   "nbconvert_exporter": "python",
   "pygments_lexer": "ipython3",
   "version": "3.9.7"
  }
 },
 "nbformat": 4,
 "nbformat_minor": 5
}
