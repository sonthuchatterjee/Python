{
 "cells": [
  {
   "cell_type": "code",
   "execution_count": 1,
   "id": "04340542",
   "metadata": {},
   "outputs": [
    {
     "name": "stdout",
     "output_type": "stream",
     "text": [
      "<Element 'data' at 0x0000020AE00CA480>\n",
      "<Element 'data' at 0x0000020AE00CBE70>\n"
     ]
    }
   ],
   "source": [
    "import xml.etree.ElementTree as et\n",
    "\n",
    "tree = et.parse(\"xmldata1.xml\")\n",
    "root = tree.getroot()\n",
    "print(root)\n",
    "\n",
    "\n",
    "a=\"\"\n",
    "with open(\"xmldata1.xml\",\"r\") as file:\n",
    "    data=file.readlines()\n",
    "\n",
    "a=\"\\n\".join(data)\n",
    "\n",
    "root1 = et.fromstring(a)\n",
    "print(root1)\n",
    "\n",
    "\n"
   ]
  },
  {
   "cell_type": "code",
   "execution_count": 2,
   "id": "6c77e15e",
   "metadata": {},
   "outputs": [
    {
     "name": "stdout",
     "output_type": "stream",
     "text": [
      "data data\n",
      "2008 2008\n",
      "2008\n",
      "country {'name': 'Liechtenstein'}\n",
      "2011\n",
      "country {'name': 'Singapore'}\n",
      "2011\n",
      "country {'name': 'Panama'}\n",
      "country {'name': 'Liechtenstein'}\n",
      "country {'name': 'Singapore'}\n",
      "country {'name': 'Panama'}\n",
      "rank\n",
      "1\n",
      "{'name': 'Austria', 'direction': 'E'}\n",
      "rank\n",
      "4\n",
      "{'name': 'Malaysia', 'direction': 'N'}\n",
      "rank\n",
      "68\n",
      "{'name': 'Costa Rica', 'direction': 'W'}\n"
     ]
    }
   ],
   "source": [
    "print(root.tag,root1.tag)\n",
    "print(root[0][1].text,root1[0][1].text)\n",
    "\n",
    "for child in root:\n",
    "    print(child[1].text)\n",
    "    print(child.tag,child.attrib)\n",
    "\n",
    "for neigh in root.iter(\"country\"):\n",
    "    print(neigh.tag,neigh.attrib)\n",
    "\n",
    "for i in root.findall(\"country\"):\n",
    "    print(i.find('rank').tag)\n",
    "    print(i.find('rank').text)\n",
    "    print(i.find('neighbor').attrib)"
   ]
  },
  {
   "cell_type": "code",
   "execution_count": 3,
   "id": "d4a77e7b",
   "metadata": {},
   "outputs": [
    {
     "name": "stdout",
     "output_type": "stream",
     "text": [
      "neighbor {'name': 'Austria', 'direction': 'E'}\n",
      "neighbor {'name': 'Switzerland', 'direction': 'W'}\n",
      "neighbor {'name': 'Malaysia', 'direction': 'N'}\n",
      "neighbor {'name': 'Costa Rica', 'direction': 'W'}\n",
      "neighbor {'name': 'Colombia', 'direction': 'E'}\n",
      "Liechtenstein\n",
      "Austria\n",
      "Switzerland\n",
      "Singapore\n",
      "Malaysia\n",
      "Panama\n",
      "Costa Rica\n",
      "Colombia\n"
     ]
    }
   ],
   "source": [
    "for i in root.iter(\"neighbor\"):\n",
    "    print(i.tag,i.attrib)\n",
    "\n",
    "for i in root.findall(\"country\"):\n",
    "    print(i.attrib['name'])\n",
    "    for j in i.findall('neighbor'):\n",
    "        print(j.attrib['name'])\n",
    "\n",
    "        #print(i.find('neighbor').attrib)"
   ]
  },
  {
   "cell_type": "code",
   "execution_count": 4,
   "id": "aa2cb9b1",
   "metadata": {},
   "outputs": [
    {
     "name": "stdout",
     "output_type": "stream",
     "text": [
      "<Element 'country' at 0x0000020AE00CB5B0>\n",
      "<Element 'country' at 0x0000020AE00CB740>\n",
      "<Element 'country' at 0x0000020AE00CB8D0>\n"
     ]
    }
   ],
   "source": [
    "for i in root.findall(\"country\"):\n",
    "    print(i)\n",
    "    if i.attrib['name'] == 'Singapore':\n",
    "\n",
    "        new_rank = int(i.find('rank').text)+1\n",
    "        i.find('rank').text = str(new_rank)\n",
    "        i.find('rank').set(\"updated\",\"yes\")\n",
    "\n",
    "tree.write(\"modifiedxmldata1.xml\")"
   ]
  },
  {
   "cell_type": "code",
   "execution_count": 5,
   "id": "e32daf9c",
   "metadata": {},
   "outputs": [],
   "source": [
    "for i in root.findall(\"country\"):\n",
    "    if int(i.find('rank').text) > 50:\n",
    "        root.remove(i)\n",
    "tree.write(\"removedcountryxmldata1.xml\")"
   ]
  },
  {
   "cell_type": "code",
   "execution_count": 6,
   "id": "fae390cd",
   "metadata": {},
   "outputs": [],
   "source": [
    "for i in root.findall(\"country\"):\n",
    "    if int(i.find('rank').text) < 50:\n",
    "        for j in i.findall(\"neighbor\"):\n",
    "            i.remove(j)\n",
    "tree.write(\"removedneighborxmldata1.xml\")"
   ]
  },
  {
   "cell_type": "code",
   "execution_count": 7,
   "id": "049466ce",
   "metadata": {},
   "outputs": [
    {
     "name": "stdout",
     "output_type": "stream",
     "text": [
      "<a><b /><c><d /></c></a>\n",
      "None\n"
     ]
    }
   ],
   "source": [
    "a=et.Element('a')\n",
    "b=et.SubElement(a,'b')\n",
    "c=et.SubElement(a,'c')\n",
    "d=et.SubElement(c,'d')\n",
    "print(et.dump(a))"
   ]
  },
  {
   "cell_type": "code",
   "execution_count": 8,
   "id": "96d8b000",
   "metadata": {},
   "outputs": [
    {
     "name": "stdout",
     "output_type": "stream",
     "text": [
      "<Element '{http://people.example.com}actors' at 0x0000020AE0124BD0>\n"
     ]
    }
   ],
   "source": [
    "import xml.etree.ElementTree as et\n",
    "\n",
    "tree1 = et.parse(\"xmldata2.xml\")\n",
    "root1 = tree1.getroot()\n",
    "print(root1)"
   ]
  },
  {
   "cell_type": "code",
   "execution_count": 19,
   "id": "1aa4251a",
   "metadata": {},
   "outputs": [
    {
     "name": "stdout",
     "output_type": "stream",
     "text": [
      "John Cleese\n",
      "Lancelot\n",
      "Eric Idle\n",
      "Sir Robin\n",
      "***** After including dictionary with namespaces mapped *****\n",
      "John Cleese\n",
      "Lancelot\n",
      "Eric Idle\n",
      "Sir Robin\n"
     ]
    }
   ],
   "source": [
    "for i in root1.findall(\"{http://people.example.com}actor\"):\n",
    "    print(i.find('{http://people.example.com}name').text)\n",
    "    print(i.find('{http://characters.example.com}character').text)\n",
    "\n",
    "\n",
    "print(\"***** After including dictionary with namespaces mapped *****\")\n",
    "ns = {'realperson':\"http://people.example.com\",\n",
    "      'role':\"http://characters.example.com\"}\n",
    "\n",
    "for i in root1.findall(\"realperson:actor\",ns):\n",
    "    print(i.find('realperson:name',ns).text)\n",
    "    print(i.find('role:character',ns).text)"
   ]
  },
  {
   "cell_type": "code",
   "execution_count": 33,
   "id": "9b5b6e41",
   "metadata": {},
   "outputs": [
    {
     "name": "stdout",
     "output_type": "stream",
     "text": [
      "<data>\n",
      "    <country name=\"Liechtenstein\">\n",
      "        <rank>1</rank>\n",
      "        <year>2008</year>\n",
      "        <gdppc>141100</gdppc>\n",
      "        <neighbor name=\"Austria\" direction=\"E\" />\n",
      "        <neighbor name=\"Switzerland\" direction=\"W\" />\n",
      "    </country>\n",
      "    <country name=\"Singapore\">\n",
      "        <rank>4</rank>\n",
      "        <year>2011</year>\n",
      "        <gdppc>59900</gdppc>\n",
      "        <neighbor name=\"Malaysia\" direction=\"N\" />\n",
      "    </country>\n",
      "    <country name=\"Panama\">\n",
      "        <rank>68</rank>\n",
      "        <year>2011</year>\n",
      "        <gdppc>13600</gdppc>\n",
      "        <neighbor name=\"Costa Rica\" direction=\"W\" />\n",
      "        <neighbor name=\"Colombia\" direction=\"E\" />\n",
      "    </country>\n",
      "</data>\n",
      "None\n"
     ]
    }
   ],
   "source": [
    "import xml.etree.ElementTree as et\n",
    "\n",
    "tree = et.parse(\"xmldata1.xml\")\n",
    "root = tree.getroot()\n",
    "print(et.dump(root))"
   ]
  },
  {
   "cell_type": "code",
   "execution_count": 34,
   "id": "54a7933b",
   "metadata": {},
   "outputs": [],
   "source": [
    "root.set(\"xmlns\",\"countryrelatedetails\")\n",
    "tree.write(\"withnamespacexmldata1.xml\")"
   ]
  },
  {
   "cell_type": "code",
   "execution_count": 39,
   "id": "0565a271",
   "metadata": {},
   "outputs": [
    {
     "name": "stdout",
     "output_type": "stream",
     "text": [
      "<Element '{countryrelatedetails}year' at 0x0000020AE06753F0>\n",
      "<ns0:data xmlns:ns0=\"countryrelatedetails\">\n",
      "    <ns0:country name=\"Liechtenstein\">\n",
      "        <ns0:rank>1</ns0:rank>\n",
      "        <ns0:year>2008</ns0:year>\n",
      "        <ns0:gdppc>141100</ns0:gdppc>\n",
      "        <ns0:neighbor name=\"Austria\" direction=\"E\" />\n",
      "        <ns0:neighbor name=\"Switzerland\" direction=\"W\" />\n",
      "    </ns0:country>\n",
      "    <ns0:country name=\"Singapore\">\n",
      "        <ns0:rank>4</ns0:rank>\n",
      "        <ns0:year>2011</ns0:year>\n",
      "        <ns0:gdppc>59900</ns0:gdppc>\n",
      "        <ns0:neighbor name=\"Malaysia\" direction=\"N\" />\n",
      "    </ns0:country>\n",
      "    <ns0:country name=\"Panama\">\n",
      "        <ns0:rank>68</ns0:rank>\n",
      "        <ns0:year>2011</ns0:year>\n",
      "        <ns0:gdppc>13600</ns0:gdppc>\n",
      "        <ns0:neighbor name=\"Costa Rica\" direction=\"W\" />\n",
      "        <ns0:neighbor name=\"Colombia\" direction=\"E\" />\n",
      "    </ns0:country>\n",
      "</ns0:data>\n",
      "None\n"
     ]
    }
   ],
   "source": [
    "import xml.etree.ElementTree as et\n",
    "\n",
    "tree = et.parse(\"withnamespacexmldata1.xml\")\n",
    "root = tree.getroot()\n",
    "print(root[0][1])\n",
    "print(et.dump(root))"
   ]
  },
  {
   "cell_type": "code",
   "execution_count": 44,
   "id": "4269b03d",
   "metadata": {},
   "outputs": [
    {
     "name": "stdout",
     "output_type": "stream",
     "text": [
      "1\n",
      "4\n",
      "68\n"
     ]
    }
   ],
   "source": [
    "ns = {\"t\":\"countryrelatedetails\"}\n",
    "\n",
    "for i in root.findall(\"./t:country\",ns):\n",
    "    print(i.find('t:rank',ns).text)"
   ]
  },
  {
   "cell_type": "code",
   "execution_count": null,
   "id": "8734cfa0",
   "metadata": {},
   "outputs": [
    {
     "name": "stdout",
     "output_type": "stream",
     "text": [
      "2008\n",
      "2011\n",
      "2011\n",
      "Liechtenstein\n",
      "Singapore\n",
      "Panama\n",
      "2008\n",
      "2011\n",
      "2011\n",
      "2008\n",
      "2011\n",
      "2011\n",
      "***** country name *****\n",
      "{countryrelatedetails}data\n",
      "***** country name *****\n",
      "Singapore\n",
      "***** 2nd neighbor country name *****\n",
      "Switzerland\n",
      "Colombia\n",
      "***** year 2011 *****\n",
      "Malaysia N\n",
      "Costa Rica W\n",
      "Colombia E\n"
     ]
    }
   ],
   "source": [
    "for i in root.findall(\"./t:country/t:year\",ns):\n",
    "    print(i.text)\n",
    "\n",
    "for i in root.findall(\".//t:country\",ns):\n",
    "    print(i.attrib['name'])\n",
    "\n",
    "for i in root.findall(\".//t:country/t:year\",ns):\n",
    "    print(i.text)\n",
    "\n",
    "for i in root.findall(\"*t:year\",ns):\n",
    "    print(i.text)\n",
    "\n",
    "print('***** country name *****')\n",
    "for i in root.findall(\"[t:country]\",ns): # provides you the element\n",
    "    print(i.tag)\n",
    "\n",
    "print('***** country name *****')\n",
    "for i in root.findall(\".//t:year/..[@name='Singapore']\",ns): # provides you the element\n",
    "    print(i.attrib['name'])\n",
    "\n",
    "print('***** 2nd neighbor country name *****')\n",
    "for i in root.findall(\".//t:neighbor[2]\",ns): # provides you the element\n",
    "    print(i.attrib['name'])\n",
    "\n",
    "print('***** details for the elements with year 2011 *****')\n",
    "for i in root.findall(\"t:country[t:year='2011']\",ns): # provides you the element\n",
    "    #print(i.attrib)\n",
    "    for j in i.findall(\"t:neighbor\",ns):\n",
    "        print(j.attrib['name'],j.attrib['direction'])\n",
    "\n",
    "\n",
    "    "
   ]
  },
  {
   "cell_type": "code",
   "execution_count": 16,
   "id": "9fd06547",
   "metadata": {},
   "outputs": [
    {
     "name": "stdout",
     "output_type": "stream",
     "text": [
      "<Element 'collection' at 0x0000024CA357FEC0>\n",
      "<class 'bytes'>\n",
      "<collection>\n",
      "    <genre category=\"Action\">\n",
      "        <decade years=\"1980s\">\n",
      "            <movie favorite=\"True\" title=\"Indiana Jones: The raiders of the lost Ark\">\n",
      "                <format multiple=\"No\">DVD</format>\n",
      "                <year>1981</year>\n",
      "                <rating>PG</rating>\n",
      "                <description>\n",
      "                'Archaeologist and adventurer Indiana Jones \n",
      "                is hired by the U.S. government to find the Ark of the \n",
      "                Covenant before the Nazis.'\n",
      "                </description>\n",
      "            </movie>\n",
      "               <movie favorite=\"True\" title=\"THE KARATE KID\">\n",
      "               <format multiple=\"Yes\">DVD,Online</format>\n",
      "               <year>1984</year>\n",
      "               <rating>PG</rating>\n",
      "               <description>None provided.</description>\n",
      "            </movie>\n",
      "            <movie favorite=\"False\" title=\"Back 2 the Future\">\n",
      "               <format multiple=\"False\">Blu-ray</format>\n",
      "               <year>1985</year>\n",
      "               <rating>PG</rating>\n",
      "               <description>Marty McFly</description>\n",
      "            </movie>\n",
      "        </decade>\n",
      "        <decade years=\"1990s\">\n",
      "            <movie favorite=\"False\" title=\"X-Men\">\n",
      "               <format multiple=\"Yes\">dvd, digital</format>\n",
      "               <year>2000</year>\n",
      "               <rating>PG-13</rating>\n",
      "               <description>Two mutants come to a private academy for their kind whose resident superhero team must \n",
      "               oppose a terrorist organization with similar powers.</description>\n",
      "            </movie>\n",
      "            <movie favorite=\"True\" title=\"Batman Returns\">\n",
      "               <format multiple=\"No\">VHS</format>\n",
      "               <year>1992</year>\n",
      "               <rating>PG13</rating>\n",
      "               <description>NA.</description>\n",
      "            </movie>\n",
      "               <movie favorite=\"False\" title=\"Reservoir Dogs\">\n",
      "               <format multiple=\"No\">Online</format>\n",
      "               <year>1992</year>\n",
      "               <rating>R</rating>\n",
      "               <description>WhAtEvER I Want!!!?!</description>\n",
      "            </movie>\n",
      "        </decade>    \n",
      "    </genre>\n",
      "\n",
      "    <genre category=\"Thriller\">\n",
      "        <decade years=\"1970s\">\n",
      "            <movie favorite=\"False\" title=\"ALIEN\">\n",
      "                <format multiple=\"Yes\">DVD</format>\n",
      "                <year>1979</year>\n",
      "                <rating>R</rating>\n",
      "                <description>\"\"\"\"\"\"\"\"\"</description>\n",
      "            </movie>\n",
      "        </decade>\n",
      "        <decade years=\"1980s\">\n",
      "            <movie favorite=\"True\" title=\"Ferris Bueller's Day Off\">\n",
      "                <format multiple=\"No\">DVD</format>\n",
      "                <year>1986</year>\n",
      "                <rating>PG13</rating>\n",
      "                <description>Funny movie about a funny guy</description>\n",
      "            </movie>\n",
      "            <movie favorite=\"FALSE\" title=\"American Psycho\">\n",
      "                <format multiple=\"No\">blue-ray</format>\n",
      "                <year>2000</year>\n",
      "                <rating>Unrated</rating>\n",
      "                <description>psychopathic Bateman</description>\n",
      "            </movie>\n",
      "        </decade>\n",
      "    </genre>\n",
      "</collection>\n",
      "<Element 'collection' at 0x0000024CA391E430>\n"
     ]
    }
   ],
   "source": [
    "import xml.etree.ElementTree as et\n",
    "\n",
    "tree=et.parse('NewTextDocument.xml')\n",
    "root = tree.getroot()\n",
    "print(root)\n",
    "\n",
    "tostring=et.tostring(root,encoding=\"utf-8\")\n",
    "print(type(tostring))\n",
    "print(tostring.decode(\"utf-8\"))\n",
    "\n",
    "print(et.fromstring(tostring))"
   ]
  },
  {
   "cell_type": "code",
   "execution_count": null,
   "id": "ce2400a0",
   "metadata": {},
   "outputs": [],
   "source": []
  }
 ],
 "metadata": {
  "kernelspec": {
   "display_name": "virenv",
   "language": "python",
   "name": "python3"
  },
  "language_info": {
   "codemirror_mode": {
    "name": "ipython",
    "version": 3
   },
   "file_extension": ".py",
   "mimetype": "text/x-python",
   "name": "python",
   "nbconvert_exporter": "python",
   "pygments_lexer": "ipython3",
   "version": "3.10.1"
  }
 },
 "nbformat": 4,
 "nbformat_minor": 5
}
